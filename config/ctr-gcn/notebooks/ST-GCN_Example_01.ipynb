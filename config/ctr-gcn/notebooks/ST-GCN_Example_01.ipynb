{
 "cells": [
  {
   "cell_type": "markdown",
   "id": "6b686c36-3288-4aec-b590-4fd055b6350e",
   "metadata": {},
   "source": [
    "# Getting Started | ST-GCN with OpenPack Dataset (Keypoint)"
   ]
  },
  {
   "cell_type": "markdown",
   "id": "4d1546e1-71c7-4c94-9e4b-c079e6c92460",
   "metadata": {},
   "source": [
    "## [0] Inital Setup"
   ]
  },
  {
   "cell_type": "markdown",
   "id": "c8db39b1-8a79-465c-8a43-736d6f2e3e7a",
   "metadata": {},
   "source": [
    "### 0-1: Download Code and Install `openpack-torch` \n",
    "NOTE: You can also install `openpack-torch` from PyPI with `pip install openpack-torch`."
   ]
  },
  {
   "cell_type": "code",
   "execution_count": null,
   "id": "c96db04c-05f5-4aed-a843-49927f7d3d1b",
   "metadata": {},
   "outputs": [],
   "source": [
    "! cd /content && git clone https://github.com/open-pack/openpack-torch.git"
   ]
  },
  {
   "cell_type": "code",
   "execution_count": null,
   "id": "3f48874c-6e41-4ec6-8f2c-5c0a8210616a",
   "metadata": {},
   "outputs": [],
   "source": [
    "! cd /content/openpack-torch/ && pip install ."
   ]
  },
  {
   "cell_type": "markdown",
   "id": "d5683dbd-1531-4612-a103-3defe8646096",
   "metadata": {},
   "source": [
    "### 0-2: Download Dataset to  `/content/data`\n",
    "- Souce: https://doi.org/10.5281/zenodo.5909086"
   ]
  },
  {
   "cell_type": "code",
   "execution_count": null,
   "id": "279aea53-753b-4aa6-a875-2769376877d8",
   "metadata": {},
   "outputs": [],
   "source": [
    "# NOTE: If you have already downloaded the dataset, you can skip this cell.\n",
    "! mkdir -p /content/data/datasets/\n",
    "! optk-download -d /content/data/datasets -s kinect-2d-kpt,activity-1s"
   ]
  },
  {
   "cell_type": "code",
   "execution_count": null,
   "id": "42c86864-fee4-44a8-99fc-c2b81098b9e8",
   "metadata": {},
   "outputs": [],
   "source": [
    "! ln -s \"/content/drive/MyDrive/Colab Notebooks/openpack/data/\" \"/content/data\""
   ]
  },
  {
   "cell_type": "markdown",
   "id": "cb4825be-fe17-4461-b700-2379d0a9dd3f",
   "metadata": {},
   "source": [
    "### 0-3: Import Modules"
   ]
  },
  {
   "cell_type": "code",
   "execution_count": 1,
   "id": "dfe08d0d-820e-4b01-89aa-00a087f3113c",
   "metadata": {},
   "outputs": [
    {
     "name": "stderr",
     "output_type": "stream",
     "text": [
      "/opt/conda/lib/python3.8/site-packages/torchvision/io/image.py:13: UserWarning: Failed to load image Python extension: libtorch_cuda_cu.so: cannot open shared object file: No such file or directory\n",
      "  warn(f\"Failed to load image Python extension: {e}\")\n"
     ]
    }
   ],
   "source": [
    "import os\n",
    "import shutil\n",
    "import logging\n",
    "from pathlib import Path\n",
    "from typing import Dict, Optional\n",
    "\n",
    "import hydra\n",
    "import numpy as np\n",
    "import openpack_toolkit as optk\n",
    "import openpack_torch as optorch\n",
    "import pandas as pd\n",
    "import pytorch_lightning as pl\n",
    "import torch\n",
    "import matplotlib.pyplot as plt\n",
    "import seaborn as sns\n",
    "from hydra import initialize_config_dir, compose\n",
    "from omegaconf import DictConfig, OmegaConf\n",
    "from openpack_toolkit import OPENPACK_OPERATIONS\n",
    "from openpack_toolkit.codalab.operation_segmentation import (\n",
    "    construct_submission_dict, eval_operation_segmentation_wrapper,\n",
    "    make_submission_zipfile)\n",
    "\n",
    "\n",
    "sns.set(\"notebook\", \"whitegrid\")"
   ]
  },
  {
   "cell_type": "markdown",
   "id": "7b9ab06d-c1fd-4c93-b661-2f385209b45d",
   "metadata": {},
   "source": [
    "### 0-4: Setup Logger"
   ]
  },
  {
   "cell_type": "code",
   "execution_count": 2,
   "id": "4ecc9586-8e12-479e-9d92-2e6c3c183e78",
   "metadata": {},
   "outputs": [
    {
     "name": "stderr",
     "output_type": "stream",
     "text": [
      "2022-09-28 23:10:17 | INFO | __main__ | info\n",
      "2022-09-28 23:10:17 | WARNING | __main__ | warning\n"
     ]
    }
   ],
   "source": [
    "_ = optk.utils.notebook.setup_root_logger()\n",
    "logger = logging.getLogger(__name__)\n",
    "\n",
    "logger.debug(\"debug\")\n",
    "logger.info(\"info\")\n",
    "logger.warning(\"warning\")"
   ]
  },
  {
   "cell_type": "markdown",
   "id": "0b9d75dc-e2e0-459e-8abc-392d2e01941f",
   "metadata": {},
   "source": [
    "## [1] Load Config File"
   ]
  },
  {
   "cell_type": "code",
   "execution_count": 3,
   "id": "7fee1706-a349-489a-9673-3ba4022cf1fa",
   "metadata": {},
   "outputs": [],
   "source": [
    "optorch.configs.register_configs()"
   ]
  },
  {
   "cell_type": "code",
   "execution_count": 4,
   "id": "ad0605ab-a82d-4d36-b25d-2ff706245681",
   "metadata": {
    "tags": []
   },
   "outputs": [],
   "source": [
    "config_dir = Path(\"/content/openpack-torch/examples/st-gcn/configs\")\n",
    "overrides = [\n",
    "    \"mode=train\",\n",
    "    \"issue=I01-EXP1-V1-nb\",\n",
    "    \"debug=false\",\n",
    "    \"train.batch_size=8\",\n",
    "    \"datarootdir=/content/data\",\n",
    "    \"hydra/job_logging=custom\",\n",
    "    \"hydra/hydra_logging=disabled\"\n",
    "]\n",
    "\n",
    "with initialize_config_dir(version_base=None, config_dir=str(config_dir)):\n",
    "    cfg = compose(\n",
    "        config_name=\"st-gcn.yaml\",\n",
    "        overrides=overrides,\n",
    "    )\n",
    "    \n",
    "# -- Target Acticity Class --\n",
    "cfg.dataset.annotation.activity_sets = dict() # Remove this attribute just for the simpler visualization.\n",
    "\n",
    "# -- Data Split --\n",
    "# Change Train/Val/Test/Submission set to submit for Development Phase.\n",
    "# Please comment out the following block when you want to train on the main set.\n",
    "cfg.dataset.split = optk.configs.datasets.splits.DEBUG_SPLIT\n",
    "\n",
    "# (default value)\n",
    "# cfg.dataset.split = optk.configs.datasets.splits.OPENPACK_CHALLENGE_2022_SPLIT"
   ]
  },
  {
   "cell_type": "code",
   "execution_count": 5,
   "id": "8f24efc7-dec5-4aa5-8cad-5c15eea44284",
   "metadata": {},
   "outputs": [
    {
     "name": "stdout",
     "output_type": "stream",
     "text": [
      "dataset:\n",
      "  name: openpack-2d-kpt\n",
      "  streams: null\n",
      "  stream:\n",
      "    schema: KeypointConfig\n",
      "    name: kinect-2d-kpt\n",
      "    description: null\n",
      "    super_stream: None\n",
      "    path:\n",
      "      dir: ${path.openpack.rootdir}/${user.name}/kinect/${..category}/${..model}/single\n",
      "      fname: ${session}.json\n",
      "    file_format: null\n",
      "    frame_rate: 15\n",
      "    category: 2d-kpt\n",
      "    model: mmpose-hrnet-w48-posetrack18-384x288-posewarper-stage2\n",
      "    nodes:\n",
      "      0: nose\n",
      "      1: left_eye\n",
      "      2: right_eye\n",
      "      3: left_ear\n",
      "      4: right_ear\n",
      "      5: left_shoulder\n",
      "      6: right_shoulder\n",
      "      7: left_elbow\n",
      "      8: right_elbow\n",
      "      9: left_wrist\n",
      "      10: right_wrist\n",
      "      11: left_hip\n",
      "      12: right_hip\n",
      "      13: left_knee\n",
      "      14: right_knee\n",
      "      15: left_ankle\n",
      "      16: right_ankle\n",
      "  split:\n",
      "    name: debug\n",
      "    train:\n",
      "    - - U0102\n",
      "      - S0100\n",
      "    - - U0102\n",
      "      - S0200\n",
      "    - - U0102\n",
      "      - S0300\n",
      "    val:\n",
      "    - - U0102\n",
      "      - S0400\n",
      "    test:\n",
      "    - - U0102\n",
      "      - S0500\n",
      "    submission:\n",
      "    - - U0102\n",
      "      - S0500\n",
      "  annotation:\n",
      "    conf_type: ANNOT_FILE\n",
      "    name: activity-1s\n",
      "    version: ''\n",
      "    path:\n",
      "      dir: ${path.openpack.rootdir}/${user.name}/annotation/activity-1s/\n",
      "      fname: ${session}.csv\n",
      "    file_format: null\n",
      "    classes: ???\n",
      "    activity_sets: {}\n",
      "  classes:\n",
      "    classes:\n",
      "    - id: 100\n",
      "      name: Picking\n",
      "      is_ignore: false\n",
      "    - id: 200\n",
      "      name: Relocate Item Label\n",
      "      is_ignore: false\n",
      "    - id: 300\n",
      "      name: Assemble Box\n",
      "      is_ignore: false\n",
      "    - id: 400\n",
      "      name: Insert Items\n",
      "      is_ignore: false\n",
      "    - id: 500\n",
      "      name: Close Box\n",
      "      is_ignore: false\n",
      "    - id: 600\n",
      "      name: Attach Box Label\n",
      "      is_ignore: false\n",
      "    - id: 700\n",
      "      name: Scan Label\n",
      "      is_ignore: false\n",
      "    - id: 800\n",
      "      name: Attach Shipping Label\n",
      "      is_ignore: false\n",
      "    - id: 900\n",
      "      name: Put on Back Table\n",
      "      is_ignore: false\n",
      "    - id: 1000\n",
      "      name: Fill out Order\n",
      "      is_ignore: false\n",
      "    - id: 8100\n",
      "      name: 'Null'\n",
      "      is_ignore: true\n",
      "datarootdir: /content/data\n",
      "issue: I01-EXP1-V1-nb\n",
      "debug: false\n",
      "mode: train\n",
      "model:\n",
      "  name: STGCN4Seg\n",
      "  Ks: 3\n",
      "  Kt: 9\n",
      "train:\n",
      "  num_workers: 3\n",
      "  batch_size: 8\n",
      "  epochs: 100\n",
      "  window: 900\n",
      "  optimizer:\n",
      "    type: Adam\n",
      "    lr: 0.001\n",
      "    weight_decay: 0.0001\n",
      "  debug:\n",
      "    batch_size: 8\n",
      "    epochs: 5\n",
      "path:\n",
      "  openpack:\n",
      "    version: v0.3.0\n",
      "    rootdir: ${datarootdir}/datasets/openpack/${.version}\n",
      "  logdir:\n",
      "    rootdir: ${datarootdir}/log/${dataset.name}/${model.name}/${issue}\n",
      "    model: ${path.logdir.rootdir}/model.pth\n",
      "    predict: ${path.logdir.rootdir}/pred/{user}-{session}\n",
      "    summary:\n",
      "      test: ${path.logdir.rootdir}/summary.csv\n",
      "      submission: ${path.logdir.rootdir}/summary_submission.csv\n",
      "\n"
     ]
    }
   ],
   "source": [
    "print(OmegaConf.to_yaml(cfg))"
   ]
  },
  {
   "cell_type": "markdown",
   "id": "fb224ba0-c400-4838-aa7b-e11df8826acb",
   "metadata": {},
   "source": [
    "## [2] Define Utilities (Pytorch Lightning Modules)"
   ]
  },
  {
   "cell_type": "markdown",
   "id": "2f3463c3-8c6f-4449-a446-a7a9b27fb60f",
   "metadata": {},
   "source": [
    "### 2-1: DataModule\n",
    "\n",
    "Override `optorch.data.OpenPackBaseDataModule` to use Keypoint data."
   ]
  },
  {
   "cell_type": "code",
   "execution_count": 6,
   "id": "ca57cd43-364b-4526-bd6c-830cd9c30b67",
   "metadata": {},
   "outputs": [],
   "source": [
    "class OpenPackKeypointDataModule(optorch.data.OpenPackBaseDataModule):\n",
    "    dataset_class = optorch.data.datasets.OpenPackKeypoint\n",
    "\n",
    "    def get_kwargs_for_datasets(self, stage: Optional[str] = None) -> Dict:\n",
    "        submission = True if self.cfg.mode == \"submission\" else False\n",
    "\n",
    "        kwargs = {\n",
    "            \"debug\": self.cfg.debug,\n",
    "            \"window\": self.cfg.train.window,\n",
    "            \"submission\": submission,\n",
    "        }\n",
    "        return kwargs"
   ]
  },
  {
   "cell_type": "markdown",
   "id": "e7bee7aa-f7c2-4f63-a43b-2513e09f7ab7",
   "metadata": {},
   "source": [
    "### 2-2: Lightning Module"
   ]
  },
  {
   "cell_type": "code",
   "execution_count": 7,
   "id": "3f68f6a2-9107-4291-9feb-a61d28ab3821",
   "metadata": {},
   "outputs": [],
   "source": [
    "class STGCN4SegLM(optorch.lightning.BaseLightningModule):\n",
    "\n",
    "    def init_model(self, cfg: DictConfig) -> torch.nn.Module:\n",
    "        in_ch = 2\n",
    "        Ks = cfg.model.Ks\n",
    "        A = optorch.models.keypoint.get_adjacency_matrix(\n",
    "            layout=\"MSCOCO\", hop_size=Ks - 1)\n",
    "        \n",
    "        model = optorch.models.keypoint.STGCN4Seg(\n",
    "            in_ch,\n",
    "            len(OPENPACK_OPERATIONS),\n",
    "            Ks=cfg.model.Ks,\n",
    "            Kt=cfg.model.Kt,\n",
    "            A=A,\n",
    "        )\n",
    "        return model\n",
    "\n",
    "    def training_step(self, batch: Dict, batch_idx: int) -> Dict:\n",
    "        x = batch[\"x\"].to(device=self.device, dtype=torch.float)\n",
    "        t = batch[\"t\"].to(device=self.device, dtype=torch.long)\n",
    "        y_hat = self(x).squeeze(3)\n",
    "\n",
    "        loss = self.criterion(y_hat, t)\n",
    "        acc = self.calc_accuracy(y_hat, t)\n",
    "        return {\"loss\": loss, \"acc\": acc}\n",
    "\n",
    "    def test_step(self, batch: Dict, batch_idx: int) -> Dict:\n",
    "        x = batch[\"x\"].to(device=self.device, dtype=torch.float)\n",
    "        t = batch[\"t\"].to(device=self.device, dtype=torch.long)\n",
    "        ts_unix = batch[\"ts\"]\n",
    "\n",
    "        y_hat = self(x).squeeze(3)\n",
    "\n",
    "        outputs = dict(t=t, y=y_hat, unixtime=ts_unix)\n",
    "        return outputs"
   ]
  },
  {
   "cell_type": "code",
   "execution_count": null,
   "id": "656308fb-20aa-4254-91b2-bf91aebc1d4d",
   "metadata": {},
   "outputs": [],
   "source": []
  },
  {
   "cell_type": "markdown",
   "id": "3901ae78-aed8-46a6-95d1-48f84f31823d",
   "metadata": {},
   "source": [
    "## [3] Train U-Net"
   ]
  },
  {
   "cell_type": "markdown",
   "id": "46bcf301-24e3-4c11-883d-c3354114bf69",
   "metadata": {},
   "source": [
    "### 3-1: Initialize U-Net Model and DataLoader."
   ]
  },
  {
   "cell_type": "code",
   "execution_count": 8,
   "id": "f8d63c1a-20ce-4581-8e79-7826e2afd083",
   "metadata": {},
   "outputs": [],
   "source": [
    "device = torch.device(\"cuda\")\n",
    "logdir = Path.cwd()\n",
    "logger.debug(f\"logdir = {logdir}\")\n",
    "\n",
    "datamodule = OpenPackKeypointDataModule(cfg)\n",
    "plmodel = STGCN4SegLM(cfg).to(dtype=torch.float, device=device)"
   ]
  },
  {
   "cell_type": "code",
   "execution_count": 9,
   "id": "c44f0a87-ca40-40d8-a6ee-16d9c38e0c1c",
   "metadata": {},
   "outputs": [
    {
     "data": {
      "text/plain": [
       "STGCN4SegLM(\n",
       "  (net): STGCN4Seg(\n",
       "    (bn): BatchNorm1d(34, eps=1e-05, momentum=0.1, affine=True, track_running_stats=True)\n",
       "    (stgc1): STConvBlock(\n",
       "      (sgc): SpatialGraphConvLayer(\n",
       "        (conv): Conv2d(2, 96, kernel_size=(1, 1), stride=(1, 1))\n",
       "      )\n",
       "      (tgc): TemporalConvLayer(\n",
       "        (block): Sequential(\n",
       "          (0): BatchNorm2d(32, eps=1e-05, momentum=0.1, affine=True, track_running_stats=True)\n",
       "          (1): ReLU()\n",
       "          (2): Dropout(p=0.5, inplace=False)\n",
       "          (3): Conv2d(32, 32, kernel_size=(9, 1), stride=(1, 1), padding=(4, 0))\n",
       "          (4): BatchNorm2d(32, eps=1e-05, momentum=0.1, affine=True, track_running_stats=True)\n",
       "          (5): ReLU()\n",
       "        )\n",
       "      )\n",
       "    )\n",
       "    (stgc2): STConvBlock(\n",
       "      (sgc): SpatialGraphConvLayer(\n",
       "        (conv): Conv2d(32, 96, kernel_size=(1, 1), stride=(1, 1))\n",
       "      )\n",
       "      (tgc): TemporalConvLayer(\n",
       "        (block): Sequential(\n",
       "          (0): BatchNorm2d(32, eps=1e-05, momentum=0.1, affine=True, track_running_stats=True)\n",
       "          (1): ReLU()\n",
       "          (2): Dropout(p=0.5, inplace=False)\n",
       "          (3): Conv2d(32, 32, kernel_size=(9, 1), stride=(1, 1), padding=(4, 0))\n",
       "          (4): BatchNorm2d(32, eps=1e-05, momentum=0.1, affine=True, track_running_stats=True)\n",
       "          (5): ReLU()\n",
       "        )\n",
       "      )\n",
       "    )\n",
       "    (stgc3): STConvBlock(\n",
       "      (sgc): SpatialGraphConvLayer(\n",
       "        (conv): Conv2d(32, 96, kernel_size=(1, 1), stride=(1, 1))\n",
       "      )\n",
       "      (tgc): TemporalConvLayer(\n",
       "        (block): Sequential(\n",
       "          (0): BatchNorm2d(32, eps=1e-05, momentum=0.1, affine=True, track_running_stats=True)\n",
       "          (1): ReLU()\n",
       "          (2): Dropout(p=0.5, inplace=False)\n",
       "          (3): Conv2d(32, 32, kernel_size=(9, 1), stride=(1, 1), padding=(4, 0))\n",
       "          (4): BatchNorm2d(32, eps=1e-05, momentum=0.1, affine=True, track_running_stats=True)\n",
       "          (5): ReLU()\n",
       "        )\n",
       "      )\n",
       "    )\n",
       "    (stgc4): STConvBlock(\n",
       "      (sgc): SpatialGraphConvLayer(\n",
       "        (conv): Conv2d(32, 192, kernel_size=(1, 1), stride=(1, 1))\n",
       "      )\n",
       "      (tgc): TemporalConvLayer(\n",
       "        (block): Sequential(\n",
       "          (0): BatchNorm2d(64, eps=1e-05, momentum=0.1, affine=True, track_running_stats=True)\n",
       "          (1): ReLU()\n",
       "          (2): Dropout(p=0.5, inplace=False)\n",
       "          (3): Conv2d(64, 64, kernel_size=(9, 1), stride=(1, 1), padding=(4, 0))\n",
       "          (4): BatchNorm2d(64, eps=1e-05, momentum=0.1, affine=True, track_running_stats=True)\n",
       "          (5): ReLU()\n",
       "        )\n",
       "      )\n",
       "    )\n",
       "    (stgc5): STConvBlock(\n",
       "      (sgc): SpatialGraphConvLayer(\n",
       "        (conv): Conv2d(64, 192, kernel_size=(1, 1), stride=(1, 1))\n",
       "      )\n",
       "      (tgc): TemporalConvLayer(\n",
       "        (block): Sequential(\n",
       "          (0): BatchNorm2d(64, eps=1e-05, momentum=0.1, affine=True, track_running_stats=True)\n",
       "          (1): ReLU()\n",
       "          (2): Dropout(p=0.5, inplace=False)\n",
       "          (3): Conv2d(64, 64, kernel_size=(9, 1), stride=(1, 1), padding=(4, 0))\n",
       "          (4): BatchNorm2d(64, eps=1e-05, momentum=0.1, affine=True, track_running_stats=True)\n",
       "          (5): ReLU()\n",
       "        )\n",
       "      )\n",
       "    )\n",
       "    (stgc6): STConvBlock(\n",
       "      (sgc): SpatialGraphConvLayer(\n",
       "        (conv): Conv2d(64, 192, kernel_size=(1, 1), stride=(1, 1))\n",
       "      )\n",
       "      (tgc): TemporalConvLayer(\n",
       "        (block): Sequential(\n",
       "          (0): BatchNorm2d(64, eps=1e-05, momentum=0.1, affine=True, track_running_stats=True)\n",
       "          (1): ReLU()\n",
       "          (2): Dropout(p=0.5, inplace=False)\n",
       "          (3): Conv2d(64, 64, kernel_size=(9, 1), stride=(1, 1), padding=(4, 0))\n",
       "          (4): BatchNorm2d(64, eps=1e-05, momentum=0.1, affine=True, track_running_stats=True)\n",
       "          (5): ReLU()\n",
       "        )\n",
       "      )\n",
       "    )\n",
       "    (stgc7): STConvBlock(\n",
       "      (sgc): SpatialGraphConvLayer(\n",
       "        (conv): Conv2d(64, 192, kernel_size=(1, 1), stride=(1, 1))\n",
       "      )\n",
       "      (tgc): TemporalConvLayer(\n",
       "        (block): Sequential(\n",
       "          (0): BatchNorm2d(64, eps=1e-05, momentum=0.1, affine=True, track_running_stats=True)\n",
       "          (1): ReLU()\n",
       "          (2): Dropout(p=0.5, inplace=False)\n",
       "          (3): Conv2d(64, 64, kernel_size=(9, 1), stride=(1, 1), padding=(4, 0))\n",
       "          (4): BatchNorm2d(64, eps=1e-05, momentum=0.1, affine=True, track_running_stats=True)\n",
       "          (5): ReLU()\n",
       "        )\n",
       "      )\n",
       "    )\n",
       "    (stgc8): STConvBlock(\n",
       "      (sgc): SpatialGraphConvLayer(\n",
       "        (conv): Conv2d(64, 192, kernel_size=(1, 1), stride=(1, 1))\n",
       "      )\n",
       "      (tgc): TemporalConvLayer(\n",
       "        (block): Sequential(\n",
       "          (0): BatchNorm2d(64, eps=1e-05, momentum=0.1, affine=True, track_running_stats=True)\n",
       "          (1): ReLU()\n",
       "          (2): Dropout(p=0.5, inplace=False)\n",
       "          (3): Conv2d(64, 64, kernel_size=(9, 1), stride=(1, 1), padding=(4, 0))\n",
       "          (4): BatchNorm2d(64, eps=1e-05, momentum=0.1, affine=True, track_running_stats=True)\n",
       "          (5): ReLU()\n",
       "        )\n",
       "      )\n",
       "    )\n",
       "    (stgc9): STConvBlock(\n",
       "      (sgc): SpatialGraphConvLayer(\n",
       "        (conv): Conv2d(64, 192, kernel_size=(1, 1), stride=(1, 1))\n",
       "      )\n",
       "      (tgc): TemporalConvLayer(\n",
       "        (block): Sequential(\n",
       "          (0): BatchNorm2d(64, eps=1e-05, momentum=0.1, affine=True, track_running_stats=True)\n",
       "          (1): ReLU()\n",
       "          (2): Dropout(p=0.5, inplace=False)\n",
       "          (3): Conv2d(64, 64, kernel_size=(9, 1), stride=(1, 1), padding=(4, 0))\n",
       "          (4): BatchNorm2d(64, eps=1e-05, momentum=0.1, affine=True, track_running_stats=True)\n",
       "          (5): ReLU()\n",
       "        )\n",
       "      )\n",
       "    )\n",
       "    (stgc10): STConvBlock(\n",
       "      (sgc): SpatialGraphConvLayer(\n",
       "        (conv): Conv2d(64, 192, kernel_size=(1, 1), stride=(1, 1))\n",
       "      )\n",
       "      (tgc): TemporalConvLayer(\n",
       "        (block): Sequential(\n",
       "          (0): BatchNorm2d(64, eps=1e-05, momentum=0.1, affine=True, track_running_stats=True)\n",
       "          (1): ReLU()\n",
       "          (2): Dropout(p=0.5, inplace=False)\n",
       "          (3): Conv2d(64, 64, kernel_size=(9, 1), stride=(1, 1), padding=(4, 0))\n",
       "          (4): BatchNorm2d(64, eps=1e-05, momentum=0.1, affine=True, track_running_stats=True)\n",
       "          (5): ReLU()\n",
       "        )\n",
       "      )\n",
       "    )\n",
       "    (stgc11): STConvBlock(\n",
       "      (sgc): SpatialGraphConvLayer(\n",
       "        (conv): Conv2d(64, 192, kernel_size=(1, 1), stride=(1, 1))\n",
       "      )\n",
       "      (tgc): TemporalConvLayer(\n",
       "        (block): Sequential(\n",
       "          (0): BatchNorm2d(64, eps=1e-05, momentum=0.1, affine=True, track_running_stats=True)\n",
       "          (1): ReLU()\n",
       "          (2): Dropout(p=0.5, inplace=False)\n",
       "          (3): Conv2d(64, 64, kernel_size=(9, 1), stride=(1, 1), padding=(4, 0))\n",
       "          (4): BatchNorm2d(64, eps=1e-05, momentum=0.1, affine=True, track_running_stats=True)\n",
       "          (5): ReLU()\n",
       "        )\n",
       "      )\n",
       "    )\n",
       "    (stgc12): STConvBlock(\n",
       "      (sgc): SpatialGraphConvLayer(\n",
       "        (conv): Conv2d(64, 192, kernel_size=(1, 1), stride=(1, 1))\n",
       "      )\n",
       "      (tgc): TemporalConvLayer(\n",
       "        (block): Sequential(\n",
       "          (0): BatchNorm2d(64, eps=1e-05, momentum=0.1, affine=True, track_running_stats=True)\n",
       "          (1): ReLU()\n",
       "          (2): Dropout(p=0.5, inplace=False)\n",
       "          (3): Conv2d(64, 64, kernel_size=(9, 1), stride=(1, 1), padding=(4, 0))\n",
       "          (4): BatchNorm2d(64, eps=1e-05, momentum=0.1, affine=True, track_running_stats=True)\n",
       "          (5): ReLU()\n",
       "        )\n",
       "      )\n",
       "    )\n",
       "    (fc): Conv2d(64, 11, kernel_size=(1, 17), stride=(1, 1))\n",
       "  )\n",
       "  (criterion): CrossEntropyLoss()\n",
       ")"
      ]
     },
     "execution_count": 9,
     "metadata": {},
     "output_type": "execute_result"
    }
   ],
   "source": [
    "plmodel"
   ]
  },
  {
   "cell_type": "markdown",
   "id": "cdac454d-d972-446e-9e3b-24da61ffac60",
   "metadata": {},
   "source": [
    "### 3-2: Initialize Trainer"
   ]
  },
  {
   "cell_type": "code",
   "execution_count": 10,
   "id": "04df6672-0398-4daa-b38e-5b04e428db63",
   "metadata": {},
   "outputs": [
    {
     "name": "stderr",
     "output_type": "stream",
     "text": [
      "/opt/conda/lib/python3.8/site-packages/pytorch_lightning/trainer/connectors/accelerator_connector.py:446: LightningDeprecationWarning: Setting `Trainer(gpus=[0])` is deprecated in v1.7 and will be removed in v2.0. Please use `Trainer(accelerator='gpu', devices=[0])` instead.\n",
      "  rank_zero_deprecation(\n",
      "GPU available: True (cuda), used: True\n",
      "TPU available: False, using: 0 TPU cores\n",
      "IPU available: False, using: 0 IPUs\n",
      "HPU available: False, using: 0 HPUs\n"
     ]
    }
   ],
   "source": [
    "# num_epoch = cfg.train.debug.epochs if cfg.debug else cfg.train.epochs\n",
    "num_epoch = 10\n",
    "\n",
    "checkpoint_callback = pl.callbacks.ModelCheckpoint(\n",
    "    save_top_k=0,\n",
    "    save_last=True,\n",
    "    monitor=None,\n",
    ")\n",
    "\n",
    "trainer = pl.Trainer(\n",
    "    gpus=[0],\n",
    "    max_epochs=num_epoch,\n",
    "    logger=False,  # disable logging module\n",
    "    default_root_dir=logdir,\n",
    "    enable_progress_bar=False,  # disable progress bar\n",
    "    enable_checkpointing=True,\n",
    "    callbacks=[checkpoint_callback],\n",
    ")\n",
    "logger.debug(f\"logdir = {logdir}\")"
   ]
  },
  {
   "cell_type": "markdown",
   "id": "75623893-5561-442c-b7b9-6612e4781651",
   "metadata": {},
   "source": [
    "### 3-3: Start training!"
   ]
  },
  {
   "cell_type": "code",
   "execution_count": 11,
   "id": "ccc3b111-16b1-41a1-b8a0-60112611968a",
   "metadata": {},
   "outputs": [
    {
     "name": "stderr",
     "output_type": "stream",
     "text": [
      "2022-09-28 23:10:20 | INFO | __main__ | Start training for 10 epochs.\n",
      "2022-09-28 23:10:23 | WARNING | openpack_torch.data.datasets | No preprocessing is applied.\n",
      "2022-09-28 23:10:24 | WARNING | openpack_torch.data.datasets | No preprocessing is applied.\n",
      "2022-09-28 23:10:24 | INFO | openpack_torch.data.datamodule | dataset[train]: OpenPackKeypoint(index=128, num_sequence=3)\n",
      "2022-09-28 23:10:24 | INFO | openpack_torch.data.datamodule | dataset[val]: {'U0102-S0400': <openpack_torch.data.datasets.OpenPackKeypoint object at 0x7f7d25cfd970>}\n",
      "2022-09-28 23:10:24 | INFO | openpack_torch.data.datamodule | dataset[test]: None\n",
      "2022-09-28 23:10:24 | INFO | openpack_torch.data.datamodule | dataset[submission]: None\n",
      "LOCAL_RANK: 0 - CUDA_VISIBLE_DEVICES: [0]\n",
      "\n",
      "  | Name      | Type             | Params\n",
      "-----------------------------------------------\n",
      "0 | net       | STGCN4Seg        | 498 K \n",
      "1 | criterion | CrossEntropyLoss | 0     \n",
      "-----------------------------------------------\n",
      "498 K     Trainable params\n",
      "0         Non-trainable params\n",
      "498 K     Total params\n",
      "1.992     Total estimated model params size (MB)\n",
      "2022-09-28 23:10:25 | INFO | openpack_torch.lightning | Epoch[000] TRAIN: loss=-1.0000, acc=-1.0000 | VAL: loss= 2.3956, acc= 0.0407\n",
      "2022-09-28 23:10:28 | INFO | openpack_torch.lightning | Epoch[000] TRAIN: loss=-1.0000, acc=-1.0000 | VAL: loss= 2.5825, acc= 0.1332\n",
      "2022-09-28 23:10:31 | INFO | openpack_torch.lightning | Epoch[001] TRAIN: loss= 2.2603, acc= 0.1784 | VAL: loss= 2.9179, acc= 0.2312\n",
      "2022-09-28 23:10:34 | INFO | openpack_torch.lightning | Epoch[002] TRAIN: loss= 1.9567, acc= 0.2741 | VAL: loss= 1.8148, acc= 0.3804\n",
      "2022-09-28 23:10:38 | INFO | openpack_torch.lightning | Epoch[003] TRAIN: loss= 1.7879, acc= 0.3573 | VAL: loss= 3.6110, acc= 0.3933\n",
      "2022-09-28 23:10:41 | INFO | openpack_torch.lightning | Epoch[004] TRAIN: loss= 1.7249, acc= 0.3798 | VAL: loss= 2.3504, acc= 0.4555\n",
      "2022-09-28 23:10:44 | INFO | openpack_torch.lightning | Epoch[005] TRAIN: loss= 1.6168, acc= 0.3842 | VAL: loss= 1.5789, acc= 0.3528\n",
      "2022-09-28 23:10:48 | INFO | openpack_torch.lightning | Epoch[006] TRAIN: loss= 1.5544, acc= 0.3964 | VAL: loss= 1.7117, acc= 0.4360\n",
      "2022-09-28 23:10:51 | INFO | openpack_torch.lightning | Epoch[007] TRAIN: loss= 1.5797, acc= 0.3923 | VAL: loss= 1.8515, acc= 0.3999\n",
      "2022-09-28 23:10:54 | INFO | openpack_torch.lightning | Epoch[008] TRAIN: loss= 1.4676, acc= 0.4446 | VAL: loss= 1.6097, acc= 0.4164\n",
      "2022-09-28 23:10:57 | INFO | openpack_torch.lightning | Epoch[009] TRAIN: loss= 1.5562, acc= 0.4077 | VAL: loss= 1.4471, acc= 0.4525\n",
      "`Trainer.fit` stopped: `max_epochs=10` reached.\n",
      "2022-09-28 23:10:57 | INFO | __main__ | Finish training!\n"
     ]
    }
   ],
   "source": [
    "logger.info(f\"Start training for {num_epoch} epochs.\")\n",
    "trainer.fit(plmodel, datamodule)\n",
    "logger.info(\"Finish training!\")"
   ]
  },
  {
   "cell_type": "markdown",
   "id": "c5132389-23b1-4803-abc1-881028061e72",
   "metadata": {},
   "source": [
    "### 3-4: Plot Training Curve"
   ]
  },
  {
   "cell_type": "code",
   "execution_count": 12,
   "id": "5fe6a607-6921-4440-a03b-03f35b72ff2b",
   "metadata": {},
   "outputs": [],
   "source": [
    "df = pd.concat([\n",
    "    pd.DataFrame(plmodel.log_dict[\"train\"]),\n",
    "    pd.DataFrame(plmodel.log_dict[\"val\"]),\n",
    "],axis=1,)\n",
    "df.index.name = \"epoch\""
   ]
  },
  {
   "cell_type": "code",
   "execution_count": 13,
   "id": "65b6eb10-9584-483b-8a44-deb539528f90",
   "metadata": {},
   "outputs": [
    {
     "data": {
      "text/html": [
       "<div>\n",
       "<style scoped>\n",
       "    .dataframe tbody tr th:only-of-type {\n",
       "        vertical-align: middle;\n",
       "    }\n",
       "\n",
       "    .dataframe tbody tr th {\n",
       "        vertical-align: top;\n",
       "    }\n",
       "\n",
       "    .dataframe thead th {\n",
       "        text-align: right;\n",
       "    }\n",
       "</style>\n",
       "<table border=\"1\" class=\"dataframe\">\n",
       "  <thead>\n",
       "    <tr style=\"text-align: right;\">\n",
       "      <th></th>\n",
       "      <th>train/loss</th>\n",
       "      <th>train/acc</th>\n",
       "      <th>val/loss</th>\n",
       "      <th>val/acc</th>\n",
       "    </tr>\n",
       "    <tr>\n",
       "      <th>epoch</th>\n",
       "      <th></th>\n",
       "      <th></th>\n",
       "      <th></th>\n",
       "      <th></th>\n",
       "    </tr>\n",
       "  </thead>\n",
       "  <tbody>\n",
       "    <tr>\n",
       "      <th>0</th>\n",
       "      <td>2.260320</td>\n",
       "      <td>0.178382</td>\n",
       "      <td>2.395616</td>\n",
       "      <td>0.040703</td>\n",
       "    </tr>\n",
       "    <tr>\n",
       "      <th>1</th>\n",
       "      <td>1.956723</td>\n",
       "      <td>0.274133</td>\n",
       "      <td>2.582525</td>\n",
       "      <td>0.133204</td>\n",
       "    </tr>\n",
       "    <tr>\n",
       "      <th>2</th>\n",
       "      <td>1.787931</td>\n",
       "      <td>0.357252</td>\n",
       "      <td>2.917878</td>\n",
       "      <td>0.231196</td>\n",
       "    </tr>\n",
       "    <tr>\n",
       "      <th>3</th>\n",
       "      <td>1.724898</td>\n",
       "      <td>0.379759</td>\n",
       "      <td>1.814759</td>\n",
       "      <td>0.380381</td>\n",
       "    </tr>\n",
       "    <tr>\n",
       "      <th>4</th>\n",
       "      <td>1.616793</td>\n",
       "      <td>0.384248</td>\n",
       "      <td>3.610967</td>\n",
       "      <td>0.393315</td>\n",
       "    </tr>\n",
       "  </tbody>\n",
       "</table>\n",
       "</div>"
      ],
      "text/plain": [
       "       train/loss  train/acc  val/loss   val/acc\n",
       "epoch                                           \n",
       "0        2.260320   0.178382  2.395616  0.040703\n",
       "1        1.956723   0.274133  2.582525  0.133204\n",
       "2        1.787931   0.357252  2.917878  0.231196\n",
       "3        1.724898   0.379759  1.814759  0.380381\n",
       "4        1.616793   0.384248  3.610967  0.393315"
      ]
     },
     "execution_count": 13,
     "metadata": {},
     "output_type": "execute_result"
    }
   ],
   "source": [
    "df.head()"
   ]
  },
  {
   "cell_type": "markdown",
   "id": "2eab3914-ef01-4115-bd75-2d0030f0c5f8",
   "metadata": {},
   "source": [
    "Training Log"
   ]
  },
  {
   "cell_type": "code",
   "execution_count": 14,
   "id": "61b0b6ad-9a6b-4264-8abd-8db8dcf477e1",
   "metadata": {},
   "outputs": [
    {
     "data": {
      "image/png": "[encoded data removed]",
      "text/plain": [
       "<Figure size 432x288 with 1 Axes>"
      ]
     },
     "metadata": {
      "needs_background": "light"
     },
     "output_type": "display_data"
    }
   ],
   "source": [
    "df[[\"train/loss\", \"val/loss\"]].plot()\n",
    "plt.show()"
   ]
  },
  {
   "cell_type": "markdown",
   "id": "c752adb3-240d-4d2f-9b4f-fc0352f51a84",
   "metadata": {},
   "source": [
    "Test Log"
   ]
  },
  {
   "cell_type": "code",
   "execution_count": 15,
   "id": "3b1a002a-2ff5-4bf6-a1b2-763d95bbaf08",
   "metadata": {},
   "outputs": [
    {
     "data": {
      "image/png": "[encoded data removed]",
      "text/plain": [
       "<Figure size 432x288 with 1 Axes>"
      ]
     },
     "metadata": {
      "needs_background": "light"
     },
     "output_type": "display_data"
    }
   ],
   "source": [
    "df[[\"train/acc\", \"val/acc\"]].plot()\n",
    "plt.show()"
   ]
  },
  {
   "cell_type": "code",
   "execution_count": null,
   "id": "776cf034-fef1-4ede-be56-2c6d97189e15",
   "metadata": {},
   "outputs": [],
   "source": []
  },
  {
   "cell_type": "markdown",
   "id": "6c7ed83f-6e92-4740-8766-7599d65643cd",
   "metadata": {},
   "source": [
    "## [4] Test"
   ]
  },
  {
   "cell_type": "markdown",
   "id": "d7101f3f-1ff5-442c-bd4a-fd82ad5c7e13",
   "metadata": {},
   "source": [
    "### 4-1: Get prediction results for each sequences."
   ]
  },
  {
   "cell_type": "code",
   "execution_count": 16,
   "id": "6ec859ea-fc23-4f48-a611-8253523ad245",
   "metadata": {},
   "outputs": [
    {
     "name": "stderr",
     "output_type": "stream",
     "text": [
      "2022-09-28 23:10:59 | WARNING | openpack_torch.data.datasets | No preprocessing is applied.\n",
      "2022-09-28 23:10:59 | INFO | openpack_torch.data.datamodule | dataset[train]: None\n",
      "2022-09-28 23:10:59 | INFO | openpack_torch.data.datamodule | dataset[val]: None\n",
      "2022-09-28 23:10:59 | INFO | openpack_torch.data.datamodule | dataset[test]: {'U0102-S0500': <openpack_torch.data.datasets.OpenPackKeypoint object at 0x7f7d25c49280>}\n",
      "2022-09-28 23:10:59 | INFO | openpack_torch.data.datamodule | dataset[submission]: None\n",
      "2022-09-28 23:10:59 | INFO | __main__ | test on U0102-S0500\n",
      "2022-09-28 23:11:00 | WARNING | openpack_torch.data.datasets | No preprocessing is applied.\n",
      "2022-09-28 23:11:00 | INFO | openpack_torch.data.datamodule | dataset[train]: None\n",
      "2022-09-28 23:11:00 | INFO | openpack_torch.data.datamodule | dataset[val]: None\n",
      "2022-09-28 23:11:00 | INFO | openpack_torch.data.datamodule | dataset[test]: {'U0102-S0500': <openpack_torch.data.datasets.OpenPackKeypoint object at 0x7f7d25d98400>}\n",
      "2022-09-28 23:11:00 | INFO | openpack_torch.data.datamodule | dataset[submission]: None\n",
      "LOCAL_RANK: 0 - CUDA_VISIBLE_DEVICES: [0]\n",
      "2022-09-28 23:11:00 | INFO | __main__ | save t[shape=(31, 900)] to /content/data/log/openpack-2d-kpt/STGCN4Seg/I01-EXP1-V1-nb/pred/U0102-S0500/t.npy\n",
      "2022-09-28 23:11:00 | INFO | __main__ | save y[shape=(31, 11, 900)] to /content/data/log/openpack-2d-kpt/STGCN4Seg/I01-EXP1-V1-nb/pred/U0102-S0500/y.npy\n",
      "2022-09-28 23:11:00 | INFO | __main__ | save unixtime[shape=(31, 900)] to /content/data/log/openpack-2d-kpt/STGCN4Seg/I01-EXP1-V1-nb/pred/U0102-S0500/unixtime.npy\n"
     ]
    }
   ],
   "source": [
    "datamodule.setup(\"test\")\n",
    "dataloaders = datamodule.test_dataloader()\n",
    "split = cfg.dataset.split.test\n",
    "\n",
    "\n",
    "outputs = dict()\n",
    "for i, dataloader in enumerate(dataloaders):\n",
    "    user, session = split[i]\n",
    "    logger.info(f\"test on {user}-{session}\")\n",
    "\n",
    "    trainer.test(plmodel, dataloader)\n",
    "\n",
    "    # save model outputs\n",
    "    pred_dir = Path(\n",
    "        cfg.path.logdir.predict.format(user=user, session=session)\n",
    "    )\n",
    "    pred_dir.mkdir(parents=True, exist_ok=True)\n",
    "\n",
    "    for key, arr in plmodel.test_results.items():\n",
    "        path = Path(pred_dir, f\"{key}.npy\")\n",
    "        np.save(path, arr)\n",
    "        logger.info(f\"save {key}[shape={arr.shape}] to {path}\")\n",
    "\n",
    "    outputs[f\"{user}-{session}\"] = {\n",
    "        \"t_idx\": plmodel.test_results.get(\"t\"),\n",
    "        \"y\": plmodel.test_results.get(\"y\"),\n",
    "        \"unixtime\": plmodel.test_results.get(\"unixtime\"),\n",
    "    }"
   ]
  },
  {
   "cell_type": "markdown",
   "id": "5780dc2a-e86c-4110-a2ef-3ee5d7951504",
   "metadata": {},
   "source": [
    "### 4-2: Evaluate"
   ]
  },
  {
   "cell_type": "code",
   "execution_count": 17,
   "id": "c61ad2c2-d92c-4161-9a0c-62677379ec8b",
   "metadata": {},
   "outputs": [],
   "source": [
    "# compute performance summary\n",
    "df_summary = eval_operation_segmentation_wrapper(\n",
    "    cfg, outputs, OPENPACK_OPERATIONS,\n",
    ")"
   ]
  },
  {
   "cell_type": "code",
   "execution_count": 18,
   "id": "72a70472-4511-4c56-bda2-72fe3a71dea4",
   "metadata": {},
   "outputs": [
    {
     "data": {
      "text/html": [
       "<div>\n",
       "<style scoped>\n",
       "    .dataframe tbody tr th:only-of-type {\n",
       "        vertical-align: middle;\n",
       "    }\n",
       "\n",
       "    .dataframe tbody tr th {\n",
       "        vertical-align: top;\n",
       "    }\n",
       "\n",
       "    .dataframe thead th {\n",
       "        text-align: right;\n",
       "    }\n",
       "</style>\n",
       "<table border=\"1\" class=\"dataframe\">\n",
       "  <thead>\n",
       "    <tr style=\"text-align: right;\">\n",
       "      <th></th>\n",
       "      <th>name</th>\n",
       "      <th>id</th>\n",
       "      <th>precision</th>\n",
       "      <th>recall</th>\n",
       "      <th>f1</th>\n",
       "      <th>support</th>\n",
       "      <th>key</th>\n",
       "    </tr>\n",
       "  </thead>\n",
       "  <tbody>\n",
       "    <tr>\n",
       "      <th>12</th>\n",
       "      <td>avg/macro</td>\n",
       "      <td>-1</td>\n",
       "      <td>0.384371</td>\n",
       "      <td>0.410033</td>\n",
       "      <td>0.368286</td>\n",
       "      <td>None</td>\n",
       "      <td>all</td>\n",
       "    </tr>\n",
       "    <tr>\n",
       "      <th>13</th>\n",
       "      <td>avg/weighted</td>\n",
       "      <td>-1</td>\n",
       "      <td>0.405785</td>\n",
       "      <td>0.489023</td>\n",
       "      <td>0.411525</td>\n",
       "      <td>None</td>\n",
       "      <td>all</td>\n",
       "    </tr>\n",
       "    <tr>\n",
       "      <th>14</th>\n",
       "      <td>Picking</td>\n",
       "      <td>100</td>\n",
       "      <td>0.929825</td>\n",
       "      <td>0.634731</td>\n",
       "      <td>0.754448</td>\n",
       "      <td>167</td>\n",
       "      <td>all</td>\n",
       "    </tr>\n",
       "    <tr>\n",
       "      <th>15</th>\n",
       "      <td>Relocate Item Label</td>\n",
       "      <td>200</td>\n",
       "      <td>0.481429</td>\n",
       "      <td>0.870801</td>\n",
       "      <td>0.620055</td>\n",
       "      <td>387</td>\n",
       "      <td>all</td>\n",
       "    </tr>\n",
       "    <tr>\n",
       "      <th>16</th>\n",
       "      <td>Assemble Box</td>\n",
       "      <td>300</td>\n",
       "      <td>0.456938</td>\n",
       "      <td>0.746094</td>\n",
       "      <td>0.566766</td>\n",
       "      <td>256</td>\n",
       "      <td>all</td>\n",
       "    </tr>\n",
       "    <tr>\n",
       "      <th>17</th>\n",
       "      <td>Insert Items</td>\n",
       "      <td>400</td>\n",
       "      <td>0.000000</td>\n",
       "      <td>0.000000</td>\n",
       "      <td>0.000000</td>\n",
       "      <td>142</td>\n",
       "      <td>all</td>\n",
       "    </tr>\n",
       "    <tr>\n",
       "      <th>18</th>\n",
       "      <td>Close Box</td>\n",
       "      <td>500</td>\n",
       "      <td>0.395604</td>\n",
       "      <td>0.203390</td>\n",
       "      <td>0.268657</td>\n",
       "      <td>177</td>\n",
       "      <td>all</td>\n",
       "    </tr>\n",
       "    <tr>\n",
       "      <th>19</th>\n",
       "      <td>Attach Box Label</td>\n",
       "      <td>600</td>\n",
       "      <td>0.000000</td>\n",
       "      <td>0.000000</td>\n",
       "      <td>0.000000</td>\n",
       "      <td>64</td>\n",
       "      <td>all</td>\n",
       "    </tr>\n",
       "    <tr>\n",
       "      <th>20</th>\n",
       "      <td>Scan Label</td>\n",
       "      <td>700</td>\n",
       "      <td>0.195652</td>\n",
       "      <td>0.061644</td>\n",
       "      <td>0.093750</td>\n",
       "      <td>292</td>\n",
       "      <td>all</td>\n",
       "    </tr>\n",
       "    <tr>\n",
       "      <th>21</th>\n",
       "      <td>Attach Shipping Label</td>\n",
       "      <td>800</td>\n",
       "      <td>0.214286</td>\n",
       "      <td>0.090000</td>\n",
       "      <td>0.126761</td>\n",
       "      <td>100</td>\n",
       "      <td>all</td>\n",
       "    </tr>\n",
       "    <tr>\n",
       "      <th>22</th>\n",
       "      <td>Put on Back Table</td>\n",
       "      <td>900</td>\n",
       "      <td>0.666667</td>\n",
       "      <td>0.531646</td>\n",
       "      <td>0.591549</td>\n",
       "      <td>79</td>\n",
       "      <td>all</td>\n",
       "    </tr>\n",
       "    <tr>\n",
       "      <th>23</th>\n",
       "      <td>Fill out Order</td>\n",
       "      <td>1000</td>\n",
       "      <td>0.503311</td>\n",
       "      <td>0.962025</td>\n",
       "      <td>0.660870</td>\n",
       "      <td>158</td>\n",
       "      <td>all</td>\n",
       "    </tr>\n",
       "  </tbody>\n",
       "</table>\n",
       "</div>"
      ],
      "text/plain": [
       "                     name    id  precision    recall        f1 support  key\n",
       "12              avg/macro    -1   0.384371  0.410033  0.368286    None  all\n",
       "13           avg/weighted    -1   0.405785  0.489023  0.411525    None  all\n",
       "14                Picking   100   0.929825  0.634731  0.754448     167  all\n",
       "15    Relocate Item Label   200   0.481429  0.870801  0.620055     387  all\n",
       "16           Assemble Box   300   0.456938  0.746094  0.566766     256  all\n",
       "17           Insert Items   400   0.000000  0.000000  0.000000     142  all\n",
       "18              Close Box   500   0.395604  0.203390  0.268657     177  all\n",
       "19       Attach Box Label   600   0.000000  0.000000  0.000000      64  all\n",
       "20             Scan Label   700   0.195652  0.061644  0.093750     292  all\n",
       "21  Attach Shipping Label   800   0.214286  0.090000  0.126761     100  all\n",
       "22      Put on Back Table   900   0.666667  0.531646  0.591549      79  all\n",
       "23         Fill out Order  1000   0.503311  0.962025  0.660870     158  all"
      ]
     },
     "execution_count": 18,
     "metadata": {},
     "output_type": "execute_result"
    }
   ],
   "source": [
    "df_summary[df_summary[\"key\"]==\"all\"]"
   ]
  },
  {
   "cell_type": "code",
   "execution_count": null,
   "id": "fcfd8be1-0c70-46a9-bfec-934a4bcec2ed",
   "metadata": {},
   "outputs": [],
   "source": []
  },
  {
   "cell_type": "markdown",
   "id": "6c71ca89-3178-490d-a93b-9030240f02a3",
   "metadata": {},
   "source": [
    "## [5] Submission"
   ]
  },
  {
   "cell_type": "markdown",
   "id": "808de226-e597-472d-a22e-ad12fe3fa08b",
   "metadata": {},
   "source": [
    "### 5-1: Get prediction for test data."
   ]
  },
  {
   "cell_type": "code",
   "execution_count": 19,
   "id": "f873710b-cd64-44d0-878e-be073a81568d",
   "metadata": {},
   "outputs": [
    {
     "name": "stderr",
     "output_type": "stream",
     "text": [
      "2022-09-28 23:11:01 | WARNING | openpack_torch.data.datasets | No preprocessing is applied.\n",
      "2022-09-28 23:11:01 | INFO | openpack_torch.data.datamodule | dataset[train]: None\n",
      "2022-09-28 23:11:01 | INFO | openpack_torch.data.datamodule | dataset[val]: None\n",
      "2022-09-28 23:11:01 | INFO | openpack_torch.data.datamodule | dataset[test]: None\n",
      "2022-09-28 23:11:01 | INFO | openpack_torch.data.datamodule | dataset[submission]: {'U0102-S0500': <openpack_torch.data.datasets.OpenPackKeypoint object at 0x7f7d25f57430>}\n",
      "2022-09-28 23:11:01 | INFO | __main__ | test on U0102-S0500\n",
      "2022-09-28 23:11:02 | WARNING | openpack_torch.data.datasets | No preprocessing is applied.\n",
      "2022-09-28 23:11:02 | INFO | openpack_torch.data.datamodule | dataset[train]: None\n",
      "2022-09-28 23:11:02 | INFO | openpack_torch.data.datamodule | dataset[val]: None\n",
      "2022-09-28 23:11:02 | INFO | openpack_torch.data.datamodule | dataset[test]: {'U0102-S0500': <openpack_torch.data.datasets.OpenPackKeypoint object at 0x7f7d25f45310>}\n",
      "2022-09-28 23:11:02 | INFO | openpack_torch.data.datamodule | dataset[submission]: None\n",
      "LOCAL_RANK: 0 - CUDA_VISIBLE_DEVICES: [0]\n",
      "2022-09-28 23:11:02 | INFO | __main__ | save t[shape=(31, 900)] to /content/data/log/openpack-2d-kpt/STGCN4Seg/I01-EXP1-V1-nb/pred/U0102-S0500/t.npy\n",
      "2022-09-28 23:11:02 | INFO | __main__ | save y[shape=(31, 11, 900)] to /content/data/log/openpack-2d-kpt/STGCN4Seg/I01-EXP1-V1-nb/pred/U0102-S0500/y.npy\n",
      "2022-09-28 23:11:02 | INFO | __main__ | save unixtime[shape=(31, 900)] to /content/data/log/openpack-2d-kpt/STGCN4Seg/I01-EXP1-V1-nb/pred/U0102-S0500/unixtime.npy\n"
     ]
    }
   ],
   "source": [
    "datamodule.setup(\"submission\")\n",
    "dataloaders = datamodule.submission_dataloader()\n",
    "split = cfg.dataset.split.submission\n",
    "\n",
    "outputs = dict()\n",
    "for i, dataloader in enumerate(dataloaders):\n",
    "    user, session = split[i]\n",
    "    logger.info(f\"test on {user}-{session}\")\n",
    "\n",
    "    trainer.test(plmodel, dataloader)\n",
    "\n",
    "    # save model outputs\n",
    "    pred_dir = Path(\n",
    "        cfg.path.logdir.predict.format(user=user, session=session)\n",
    "    )\n",
    "    pred_dir.mkdir(parents=True, exist_ok=True)\n",
    "\n",
    "    for key, arr in plmodel.test_results.items():\n",
    "        path = Path(pred_dir, f\"{key}.npy\")\n",
    "        np.save(path, arr)\n",
    "        logger.info(f\"save {key}[shape={arr.shape}] to {path}\")\n",
    "\n",
    "    outputs[f\"{user}-{session}\"] = {\n",
    "        \"y\": plmodel.test_results.get(\"y\"),\n",
    "        \"unixtime\": plmodel.test_results.get(\"unixtime\"),\n",
    "    }"
   ]
  },
  {
   "cell_type": "code",
   "execution_count": 20,
   "id": "68df5bae-e4f6-4bab-b6a3-a31f5982cf2b",
   "metadata": {},
   "outputs": [
    {
     "data": {
      "text/plain": [
       "dict_keys(['U0102-S0500'])"
      ]
     },
     "execution_count": 20,
     "metadata": {},
     "output_type": "execute_result"
    }
   ],
   "source": [
    "outputs.keys()"
   ]
  },
  {
   "cell_type": "markdown",
   "id": "77d977c9-065c-4e38-b7c3-ab1c4251e1f1",
   "metadata": {},
   "source": [
    "### 5-2: Make submission zip file"
   ]
  },
  {
   "cell_type": "code",
   "execution_count": 21,
   "id": "83ff7cca-5916-4429-87e1-f1136b4bd3cf",
   "metadata": {},
   "outputs": [
    {
     "name": "stderr",
     "output_type": "stream",
     "text": [
      "2022-09-28 23:11:02 | INFO | openpack_toolkit.codalab.operation_segmentation.utils | write submission.json to submission.json\n",
      "2022-09-28 23:11:02 | INFO | openpack_toolkit.codalab.operation_segmentation.utils | write submission.zip to submission.zip\n"
     ]
    }
   ],
   "source": [
    "output_dir = Path(\".\")\n",
    "\n",
    "submission_dict = construct_submission_dict(\n",
    "    outputs, OPENPACK_OPERATIONS)\n",
    "make_submission_zipfile(submission_dict, output_dir)"
   ]
  },
  {
   "cell_type": "code",
   "execution_count": null,
   "id": "e7294f20-139c-48e5-9eb6-68124b14d329",
   "metadata": {},
   "outputs": [],
   "source": []
  }
 ],
 "metadata": {
  "kernelspec": {
   "display_name": "Python 3 (ipykernel)",
   "language": "python",
   "name": "python3"
  },
  "language_info": {
   "codemirror_mode": {
    "name": "ipython",
    "version": 3
   },
   "file_extension": ".py",
   "mimetype": "text/x-python",
   "name": "python",
   "nbconvert_exporter": "python",
   "pygments_lexer": "ipython3",
   "version": "3.8.12"
  }
 },
 "nbformat": 4,
 "nbformat_minor": 5
}
