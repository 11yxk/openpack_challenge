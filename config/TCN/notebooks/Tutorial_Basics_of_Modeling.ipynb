{
 "cells": [
  {
   "cell_type": "markdown",
   "id": "62133d2f-db52-4903-b8da-afb282959973",
   "metadata": {},
   "source": [
    "# OpenPack Challenge | Tutorial: Overview of OpenPack Dataset and Basics of Modeling"
   ]
  },
  {
   "cell_type": "markdown",
   "id": "b446fd81-b807-458b-865d-8a66e2c2a416",
   "metadata": {},
   "source": [
    "[![Open In Colab](https://colab.research.google.com/assets/colab-badge.svg)](https://colab.research.google.com/github/open-pack/openpack-torch/blob/main/examples/deep-conv-lstm/notebooks/Tutorial_Basics_of_Modeling.ipynb)"
   ]
  },
  {
   "cell_type": "markdown",
   "id": "b6cbaadf-07c0-4bf0-823b-8b8cec315100",
   "metadata": {},
   "source": [
    "**NOTE: When you run this notebook on colab, please change runtime to GPU.**\n",
    "\n",
    "NOTE: This notebook does not describe the procedure to make a submission file for OpenPack Challenge 2022. Plese refer to other tutorials."
   ]
  },
  {
   "cell_type": "markdown",
   "id": "b0963c46-4e9f-4091-b4f4-81db2f80561f",
   "metadata": {},
   "source": [
    "## [1] Introduction\n",
    "\n",
    "This notebook is prepared as a tutorial for [OpenPack Challenge　2022](https://open-pack.github.io/challenge2022) held in [Percom 2023 Workshop　BiRD](https://bio-navigation.jp/bird2023/).\n",
    "In this notebook, we will describe two things, (1) overview of OpenPack dataset, (2) basic ideas to build a work activity recognition model."
   ]
  },
  {
   "cell_type": "markdown",
   "id": "4bb94ff0-ac3f-4e49-9c32-12a2d9f7a099",
   "metadata": {},
   "source": [
    "### 1-1: OpenPack Challenge 2022 (Competition)\n",
    "\n",
    "We are hosting an activity recognition competition using the OpenPack dataset at [Percom 2023 Workshop](https://bio-navigation.jp/bird2023/)!\n",
    "The task of this competition is the same as this notebook: temporal semantic segmentation of 10 work operations.\n",
    "If you are interested in this challenge and have not signed up, please visit our [website](https://open-pack.github.io/challenge2022).\n",
    "\n",
    "- [OpenPack Challenge 2022 - Official Site](https://open-pack.github.io/challenge2022)\n",
    "- [Google Group](https://groups.google.com/g/openpack) (Subscribe this mailing list to get updates from OpenPack Team)\n",
    "\n",
    "![](../../../assets/img/OpenPackCHALLENG-black.png)"
   ]
  },
  {
   "cell_type": "markdown",
   "id": "6861f6d2-fbd0-49e5-ad86-d4a0f87fe007",
   "metadata": {},
   "source": [
    "### 1-2: Expected Learner\n",
    "\n",
    "- Participants or prospective participants in the OpenPack Challenge\n",
    "- Anyone who wants to get an overview of the OpenPack Dataset\n",
    "- Anyone who wants to get a basic introduction to machine learning (Neural Network) modeling.\n",
    "\n",
    "You do not need to have high-level machine learning knowledge to follow this tutorial, but knowledge of the basics of machine learning is recommended."
   ]
  },
  {
   "cell_type": "markdown",
   "id": "f846f6a1",
   "metadata": {},
   "source": [
    "## [2] Overview of OpenPack Dataset"
   ]
  },
  {
   "cell_type": "markdown",
   "id": "a558445f-f148-487b-9acd-9d6de06530f0",
   "metadata": {},
   "source": [
    "**OpenPacking Dataset** is a new large-scale multi-modal dataset in industrial domain. \n",
    "Activities in the packaging work are recorded using 9 types of sensors such as IMUs and depth sensors. \n",
    "Total recording length is more than 53 hours."
   ]
  },
  {
   "cell_type": "markdown",
   "id": "1460142f-9929-4c8e-ae39-46629621f05c",
   "metadata": {},
   "source": [
    "> **Characteristics of OpenPack Dataset**\n",
    "> 1. A large industrial domain activity recognition dataset totaling over 53 hours of data\n",
    "> 1. 9 sensor types, including data from IoT devices deployed in smart factories\n",
    "> 1. Rich metadata such as worker's packing experience and the products to be packed\n",
    "\n",
    "For more information, please visit [website](https://open-pack.github.io)."
   ]
  },
  {
   "cell_type": "markdown",
   "id": "2b555b9a-35b1-4af1-84a7-ce00f8f5d176",
   "metadata": {},
   "source": [
    "OpenPack Dataset is a dataset for activity recognition research, with labels assigned to the following 10 types of work operations.\n",
    "In this notebook, we estimate which operation is being performed in each second for a given sensor data.\n",
    "Sample videos (depth images) are uploaded on [Youtube](https://www.youtube.com/channel/UC-AzuKxoJcyOtFi7B3CS4rA). You can get an idea of the flow of the packing process by watching this video.\n",
    "\n",
    "> **OpenPack: Activity Class**\n",
    "> - 100: Picking\n",
    "> - 200: Relocate Item Label\n",
    "> - 300: Assemble Box\n",
    "> - 400: Insert Items\n",
    "> - 500: Close Box\n",
    "> - 600: Attach Box Label\n",
    "> - 700: Scan Label\n",
    "> - 800: Attaching Shipping Label\n",
    "> - 900: Put on Back Table\n",
    "> - 1000: Fill out Order"
   ]
  },
  {
   "cell_type": "markdown",
   "id": "0f8c6fe2-0496-40de-9cb8-678dc07974c3",
   "metadata": {},
   "source": [
    "The main task of the OpenPack Dataset is to \"recognize the work operations in a packing work.\n",
    "However, recognition is not an easy task.\n",
    "For example, if you want to recognize a \"walk,\" you only need to capture the periodic movements of the limbs, but in the case of a work operation, there are very few repetitive movements, and you also need to deal with the following issues.\n",
    "\n",
    "1. The speed of operation varies greatly depending on the skill level of the subject.\n",
    "1. The combination of items to be packed is different each time. The size of the box used depends on the size of the items. Furthermore, the number of times of inserting the products into the box will change if the number of items is different. \n",
    "1. The work procedure is basically fixed, but for more efficient work, skilled workers may change some parts of the procedure, or the order may be changed due to mistakes."
   ]
  },
  {
   "cell_type": "markdown",
   "id": "8f82667a-6ef3-4cd5-b34c-c1ae503ad448",
   "metadata": {},
   "source": [
    "![](../../../assets/img/OpenPack__KeyVisual.png)"
   ]
  },
  {
   "cell_type": "code",
   "execution_count": 1,
   "id": "a3e0bea5-47ac-4e21-8a42-3b8ec96f0fdf",
   "metadata": {},
   "outputs": [
    {
     "data": {
      "image/jpeg": "[encoded data removed]",
      "text/html": [
       "\n",
       "        <iframe\n",
       "            width=\"600\"\n",
       "            height=\"400\"\n",
       "            src=\"https://www.youtube.com/embed/KRG5zv3ueRQ\"\n",
       "            frameborder=\"0\"\n",
       "            allowfullscreen\n",
       "            \n",
       "        ></iframe>\n",
       "        "
      ],
      "text/plain": [
       "<IPython.lib.display.YouTubeVideo at 0x7f665025d670>"
      ]
     },
     "execution_count": 1,
     "metadata": {},
     "output_type": "execute_result"
    }
   ],
   "source": [
    "from IPython.display import YouTubeVideo\n",
    "YouTubeVideo('KRG5zv3ueRQ', width=600, height=400)"
   ]
  },
  {
   "cell_type": "markdown",
   "id": "8e6501dd-b55e-47fe-9225-653690cf0301",
   "metadata": {},
   "source": [
    "## [3] Sample Programs"
   ]
  },
  {
   "cell_type": "markdown",
   "id": "6bdef1ad-c95d-4182-8d93-94b77b7a5a58",
   "metadata": {},
   "source": [
    "From here on, we will build a neural network that estimates 10 different work operations every second, using acceleration data collected by IMU sensors attached to the left wrists as input.\n",
    "We want to focus on learning the basic ideas of modeling, so there are several codes required, but if there are no specific instructions, just run the code as it is.\n",
    "If you wish to try more advanced experiments, such as data preprocessing or modifying the training method, we hope you will deepen your understanding in another tutorial.\n",
    "\n",
    "- Input: acceleration signal collected from the left wrist at 30 Hz for 60 seconds (Shape of input Tensor: `(1800, 6)`)\n",
    "- Output: Work operation labels every 1 second (Shape of Tensor: `(60, 10)`)\n",
    "- Model: Neural Network (PyTorch)"
   ]
  },
  {
   "cell_type": "markdown",
   "id": "2d4b4105-f8e4-41ed-8248-2b97ba10b5a1",
   "metadata": {},
   "source": [
    "![](../../../assets/img/tutorial/task.jpg)"
   ]
  },
  {
   "cell_type": "markdown",
   "id": "f9a2e52a-56f4-4647-bab0-ce595fb60a77",
   "metadata": {},
   "source": [
    "### Model for Activity Recognition\n",
    "\n",
    "In this section, we briefly summarize what perspectives should be taken to build an activity recognition model.\n",
    "The implementation and parameters to consider are explained while running the sample below.\n",
    "\n",
    "First, here are some examples of what to consider when dealing with multimodal time series data.\n",
    "\n",
    "1. Temporal Dependencies\n",
    "    1. range to be considered (1 sec? 10 seconds?) ... Set the range with reference to the duration of the activities to be recognized, etc.\n",
    "    1. whether to consider only the forward temporal dependency or backword temporal dependency?　... When classifying \"taps\" and \"double taps,\" it is necessary to consider both the past and the future in order to distinguish which is the first tap.\n",
    "1. Modality\n",
    "    1. sensor fusion (extract features for both hand movements at once? OR perform separate feature extraction for right and left wrist and then combine them?) ... Since the left and right hands can move independently, it may be more effective to consider them separately. 1.\n",
    "    1. how to combine with other modalities (video, logs from IoT devices, etc.)\n",
    "\n",
    "It is difficult to cover everything in this tutorial, so we will consider **temporal dependency**."
   ]
  },
  {
   "cell_type": "markdown",
   "id": "535c7dc1-e10c-40f7-b890-157a64029502",
   "metadata": {},
   "source": [
    "### Key Aspect to buld model for Operations in OpenPack Dataset\n",
    "\n",
    "Basically the same as the above two items, but we will explain more specific part to OpenPack Dataset.\n",
    "\n",
    "- The movements are mainly performed with the hands only. Therefore, there are many movements that are very similar in acceleration data alone.\n",
    "    - e.g.) Arm movement: Assemble Box and Close Box\n",
    "    - It is considered effective to estimate the activityt at the time of interest **using the previous and following work processes as a clue**.\n",
    "- Activity order is basically fixed.\n",
    "    - The order of activities is approximately fixed because the workflow is fixed.\n",
    "    - The **actitity order can be a important hint** for prediction.\n",
    "    - (Note) As the accuracy increases to a certain degree, misrecognition of out-of-normal order due to work errors becomes an issue.　In order to improve the accuracy, how to handle this part is important to improve accuracy."
   ]
  },
  {
   "cell_type": "markdown",
   "id": "a06a1122-cef4-42ff-a14b-2c960b8eb0cd",
   "metadata": {},
   "source": [
    "![](../../../assets/img/tutorial/work_HAR_idea.jpg)"
   ]
  },
  {
   "cell_type": "markdown",
   "id": "3a0c7927-760d-4a79-aac6-d1fad4af7ef4",
   "metadata": {},
   "source": [
    "------\n",
    "Let's move to implementation part."
   ]
  },
  {
   "cell_type": "markdown",
   "id": "1149019d-005a-4071-81b4-5dde35836302",
   "metadata": {},
   "source": [
    "## [4] Inialize Environment (Please execute only once)"
   ]
  },
  {
   "cell_type": "markdown",
   "id": "bb015bbf-633d-4dd5-9451-59b6f5cc3ecb",
   "metadata": {},
   "source": [
    "### 4-1: Download Code and Install `openpack-torch` "
   ]
  },
  {
   "cell_type": "code",
   "execution_count": null,
   "id": "3d848e0e-64c3-4376-b2a9-342e14d82b74",
   "metadata": {},
   "outputs": [],
   "source": [
    "# download sample codes\n",
    "! cd /content && git clone https://github.com/open-pack/openpack-torch.git"
   ]
  },
  {
   "cell_type": "code",
   "execution_count": null,
   "id": "e1a8f425-bb1a-4f8f-a2e7-5fa4fb2b276c",
   "metadata": {},
   "outputs": [],
   "source": [
    "# install openpack-torch from source code\n",
    "! cd /content/openpack-torch/ && pip install ."
   ]
  },
  {
   "cell_type": "markdown",
   "id": "7effb91e-bfb4-4bb3-ba5e-81cf8cf0c92b",
   "metadata": {},
   "source": [
    "### 4-2: Download Dataset from Zenodo"
   ]
  },
  {
   "cell_type": "markdown",
   "id": "6b9877ec-b236-4cb6-b8bf-39024bd17172",
   "metadata": {},
   "source": [
    "NOTE: If you are running this notebook on colab, please mount your Google Drive."
   ]
  },
  {
   "cell_type": "code",
   "execution_count": null,
   "id": "a7f5ab1c-1cf8-4a40-8b09-820345afaadb",
   "metadata": {},
   "outputs": [],
   "source": [
    "from google.colab import drive\n",
    "drive.mount('/content/drive')"
   ]
  },
  {
   "cell_type": "markdown",
   "id": "8744d07f-9d55-4f9a-bf56-a160f0c263cb",
   "metadata": {},
   "source": [
    "Dataset Directory: `/content/drive/MyDrive/Colab Notebooks/openpack/data/datasets`"
   ]
  },
  {
   "cell_type": "code",
   "execution_count": null,
   "id": "171bee58-23f6-49b3-a297-31036387df5a",
   "metadata": {},
   "outputs": [],
   "source": [
    "# NOTE: If you have already downloaded the dataset, you can skip this cell.\n",
    "! mkdir -p \"/content/drive/MyDrive/Colab Notebooks/openpack/data/datasets\"\n",
    "! optk-download -d \"/content/drive/MyDrive/Colab Notebooks/openpack/data/datasets\" -s atr-qags,activity-1s"
   ]
  },
  {
   "cell_type": "code",
   "execution_count": null,
   "id": "ff7c8250-f18c-48d4-8a7f-f12ac0552e9f",
   "metadata": {},
   "outputs": [],
   "source": [
    "! ln -s \"/content/drive/MyDrive/Colab Notebooks/openpack/data/\" \"/content/data\""
   ]
  },
  {
   "cell_type": "markdown",
   "id": "13c4a349-8af8-4840-849f-d97b04f143cb",
   "metadata": {},
   "source": [
    "### 4-3: Import Modules"
   ]
  },
  {
   "cell_type": "code",
   "execution_count": 1,
   "id": "0fca86ac-b992-47e1-a809-02dc17776d10",
   "metadata": {},
   "outputs": [
    {
     "name": "stderr",
     "output_type": "stream",
     "text": [
      "/opt/conda/lib/python3.8/site-packages/torchvision/io/image.py:13: UserWarning: Failed to load image Python extension: libtorch_cuda_cu.so: cannot open shared object file: No such file or directory\n",
      "  warn(f\"Failed to load image Python extension: {e}\")\n"
     ]
    }
   ],
   "source": [
    "import os\n",
    "import shutil\n",
    "import logging\n",
    "from pathlib import Path\n",
    "from typing import Dict, Optional\n",
    "\n",
    "\n",
    "import hydra\n",
    "import numpy as np\n",
    "import openpack_toolkit as optk\n",
    "import openpack_torch as optorch\n",
    "import pandas as pd\n",
    "import pytorch_lightning as pl\n",
    "import torch\n",
    "from torch import nn\n",
    "from scipy.special import softmax\n",
    "\n",
    "import matplotlib.pyplot as plt\n",
    "import seaborn as sns\n",
    "from hydra import initialize_config_dir, compose\n",
    "from omegaconf import DictConfig, OmegaConf\n",
    "\n",
    "from openpack_toolkit import OPENPACK_OPERATIONS\n",
    "from openpack_toolkit.codalab.operation_segmentation import (\n",
    "    construct_submission_dict, eval_operation_segmentation_wrapper,\n",
    "    make_submission_zipfile)\n",
    "\n",
    "sns.set(\"notebook\", \"whitegrid\")"
   ]
  },
  {
   "cell_type": "code",
   "execution_count": 2,
   "id": "88d0bdbf-b9cd-40cf-bfa0-e7f18c23b96f",
   "metadata": {},
   "outputs": [
    {
     "name": "stderr",
     "output_type": "stream",
     "text": [
      "2022-10-05 22:07:11 | INFO | __main__ | info\n",
      "2022-10-05 22:07:11 | WARNING | __main__ | warning\n"
     ]
    }
   ],
   "source": [
    "_ = optk.utils.notebook.setup_root_logger()\n",
    "logger = logging.getLogger(__name__)\n",
    "\n",
    "logger.debug(\"debug\")\n",
    "logger.info(\"info\")\n",
    "logger.warning(\"warning\")"
   ]
  },
  {
   "cell_type": "markdown",
   "id": "53707866-bfc4-49dc-9bba-5b7bab6e12da",
   "metadata": {},
   "source": [
    "### 4-4: Load Config Files \n",
    "\n",
    "Loads default parameters. \n",
    "When modeling in deep learning, there are a large number of hyperparameters, and managing them is important for reproducibility and efficiency of experiments.\n",
    "Various tools have been proposed to solve this problem. Here we use [hydra](https://hydra.cc/)."
   ]
  },
  {
   "cell_type": "code",
   "execution_count": 3,
   "id": "6393e3c5-94bc-4889-8155-7689d683579b",
   "metadata": {},
   "outputs": [],
   "source": [
    "# Copy the sample config files\n",
    "! cp -r /content/openpack-torch/examples/deep-conv-lstm/configs /content/"
   ]
  },
  {
   "cell_type": "code",
   "execution_count": 4,
   "id": "f8ce8be4-ac7e-4b9c-88d9-66545265b102",
   "metadata": {
    "tags": []
   },
   "outputs": [],
   "source": [
    "# Load parameters for the dataset.\n",
    "optorch.configs.register_configs()\n",
    "\n",
    "# Load paramters for models and training.\n",
    "overrides = [\n",
    "    \"mode=train\",\n",
    "    \"issue=I01-EXP1-V1-nb\", # subdirectry for logging\n",
    "    \n",
    "    # -- debug --\n",
    "    # If true, some training parameters (e.g., bach size, epochs) are switched to debug mode setting written in `train.debug.XXX`.\n",
    "    \"debug=false\",\n",
    "    \n",
    "    # -- path.logdir.rootdir --\n",
    "    # path to write training logs and resutls.\n",
    "    # If you want to keep logs, please use Google Drive (i.e., `/content/drive/XXX` )\n",
    "    \"path.logdir.rootdir=/content/logs/${dataset.name}/${model.name}/${issue}\"\n",
    "    \n",
    "    # \"hydra/job_logging=custom\",\n",
    "    # \"hydra/hydra_logging=disabled\"\n",
    "]\n",
    "\n",
    "with hydra.initialize_config_dir(version_base=None, config_dir=\"/content/configs\"):\n",
    "    cfg = hydra.compose(\n",
    "        config_name=\"deep-conv-lstm.yaml\",\n",
    "        overrides=overrides,\n",
    "    )\n",
    "\n",
    "# -- Target Acticity Class --\n",
    "cfg.dataset.annotation.activity_sets = dict()\n",
    "\n",
    "# -- Data Split --\n",
    "# Change Train/Val/Test/Submission set to save training time. \n",
    "cfg.dataset.split = optk.configs.datasets.splits.PILOT_CHALLENGE_SPLIT"
   ]
  },
  {
   "cell_type": "code",
   "execution_count": 5,
   "id": "6329efb0-9e8d-438d-8b6e-538026ed8bb6",
   "metadata": {},
   "outputs": [
    {
     "name": "stdout",
     "output_type": "stream",
     "text": [
      "dataset:\n",
      "  annotation:\n",
      "    conf_type: ANNOT_FILE\n",
      "    name: activity-1s\n",
      "    version: ''\n",
      "    path:\n",
      "      dir: ${path.openpack.rootdir}/${user.name}/annotation/activity-1s/\n",
      "      fname: ${session}.csv\n",
      "    file_format: null\n",
      "    classes: ???\n",
      "    activity_sets: {}\n",
      "  stream:\n",
      "    schema: ImuConfig\n",
      "    name: atr-acc-left-wrist\n",
      "    description: null\n",
      "    super_stream: atr-qags\n",
      "    path:\n",
      "      dir: ${path.openpack.rootdir}/${user.name}/atr/${device}\n",
      "      fname: ${session}.csv\n",
      "    file_format: null\n",
      "    frame_rate: 30\n",
      "    devices:\n",
      "    - atr01\n",
      "    acc: true\n",
      "    gyro: false\n",
      "    quat: false\n",
      "  split:\n",
      "    name: pilot-challenge\n",
      "    train:\n",
      "    - - U0102\n",
      "      - S0100\n",
      "    - - U0102\n",
      "      - S0200\n",
      "    - - U0102\n",
      "      - S0300\n",
      "    - - U0102\n",
      "      - S0400\n",
      "    - - U0102\n",
      "      - S0500\n",
      "    - - U0103\n",
      "      - S0100\n",
      "    - - U0103\n",
      "      - S0200\n",
      "    - - U0103\n",
      "      - S0300\n",
      "    - - U0103\n",
      "      - S0400\n",
      "    - - U0103\n",
      "      - S0500\n",
      "    - - U0105\n",
      "      - S0100\n",
      "    - - U0105\n",
      "      - S0200\n",
      "    - - U0105\n",
      "      - S0300\n",
      "    - - U0105\n",
      "      - S0400\n",
      "    - - U0105\n",
      "      - S0500\n",
      "    val:\n",
      "    - - U0106\n",
      "      - S0200\n",
      "    - - U0106\n",
      "      - S0400\n",
      "    test:\n",
      "    - - U0106\n",
      "      - S0100\n",
      "    - - U0106\n",
      "      - S0300\n",
      "    - - U0106\n",
      "      - S0500\n",
      "    submission:\n",
      "    - - U0107\n",
      "      - S0100\n",
      "    - - U0107\n",
      "      - S0200\n",
      "    - - U0107\n",
      "      - S0300\n",
      "    - - U0107\n",
      "      - S0500\n",
      "  classes:\n",
      "    classes:\n",
      "    - id: 100\n",
      "      name: Picking\n",
      "      is_ignore: false\n",
      "    - id: 200\n",
      "      name: Relocate Item Label\n",
      "      is_ignore: false\n",
      "    - id: 300\n",
      "      name: Assemble Box\n",
      "      is_ignore: false\n",
      "    - id: 400\n",
      "      name: Insert Items\n",
      "      is_ignore: false\n",
      "    - id: 500\n",
      "      name: Close Box\n",
      "      is_ignore: false\n",
      "    - id: 600\n",
      "      name: Attach Box Label\n",
      "      is_ignore: false\n",
      "    - id: 700\n",
      "      name: Scan Label\n",
      "      is_ignore: false\n",
      "    - id: 800\n",
      "      name: Attach Shipping Label\n",
      "      is_ignore: false\n",
      "    - id: 900\n",
      "      name: Put on Back Table\n",
      "      is_ignore: false\n",
      "    - id: 1000\n",
      "      name: Fill out Order\n",
      "      is_ignore: false\n",
      "    - id: 8100\n",
      "      name: 'Null'\n",
      "      is_ignore: true\n",
      "  name: atr-left-wrist\n",
      "datarootdir: /content/drive/MyDrive/Colab Notebooks/openpack/data/\n",
      "issue: I01-EXP1-V1-nb\n",
      "debug: false\n",
      "mode: train\n",
      "model:\n",
      "  name: DeepConvLSTM\n",
      "train:\n",
      "  num_workers: 3\n",
      "  batch_size: 32\n",
      "  epochs: 200\n",
      "  window: 1800\n",
      "  optimizer:\n",
      "    type: Adam\n",
      "    lr: 0.0001\n",
      "    weight_decay: 0.0001\n",
      "  debug:\n",
      "    batch_size: 8\n",
      "    epochs: 5\n",
      "path:\n",
      "  openpack:\n",
      "    version: v0.3.0\n",
      "    rootdir: ${datarootdir}/datasets/openpack/${.version}\n",
      "  logdir:\n",
      "    rootdir: /content/logs/${dataset.name}/${model.name}/${issue}\n",
      "    model: ${path.logdir.rootdir}/model.pth\n",
      "    predict: ${path.logdir.rootdir}/pred/{user}-{session}\n",
      "    summary:\n",
      "      test: ${path.logdir.rootdir}/summary.csv\n",
      "      submission: ${path.logdir.rootdir}/summary_submission.csv\n",
      "\n"
     ]
    }
   ],
   "source": [
    "print(OmegaConf.to_yaml(cfg))"
   ]
  },
  {
   "cell_type": "markdown",
   "id": "d07597d2-9215-4049-a3f8-c442aa8342e2",
   "metadata": {},
   "source": [
    "## [5] Build Model"
   ]
  },
  {
   "cell_type": "markdown",
   "id": "803c6bc7-655a-42f0-881f-dff2d997a848",
   "metadata": {
    "tags": []
   },
   "source": [
    "### 5-1: Overview of Baseline Model (DeepConvLSTM)\n",
    "\n",
    "In this tutorial, we will build a several variants of DeepConvLSTM ([Sensors 2016](https://www.mdpi.com/1424-8220/16/1/115)).\n",
    "This model is used in many studies as a baseline method.\n",
    "It is designed to consider both short-term and long-term dependencies by first extracting local features in the convolution layer and then extracting long-term dependencies in the LSTM layer.\n",
    "\n",
    "Reference: [Deep Convolutional and LSTM Recurrent Neural Networks for Multimodal Wearable Activity Recognition (Sensors, 2016)](https://www.mdpi.com/1424-8220/16/1/115) "
   ]
  },
  {
   "cell_type": "markdown",
   "id": "a11f8c17-5852-4414-a8be-2debfe02af98",
   "metadata": {},
   "source": [
    "### 5-2: Variants of DeepConvLSTM\n",
    "\n",
    "Here, we prepared 3 variabts.\n",
    "\n",
    "1. CNN Only\n",
    "    1. Change the length of time to extract features by changing the size of the convolution filter.\n",
    "    1. Change the number of convolutional layers.\n",
    "1. DeepConvLSTM (Proposed in [Sensos 2016])\n",
    "1. Bidiractional LSTM (Replace the normal LSTM layer with bidirectional LSTM layer.)\n"
   ]
  },
  {
   "cell_type": "markdown",
   "id": "fe2a4cdd-6ea2-48dd-b7c2-e3a098a719f6",
   "metadata": {},
   "source": [
    "![](../../../assets/img/tutorial/dcl_architecture.jpg)"
   ]
  },
  {
   "cell_type": "markdown",
   "id": "4ac1a296-442b-475a-b5ce-1bd1ced14916",
   "metadata": {},
   "source": [
    "### 5-3: CNN Only (ver.1) \n",
    "\n",
    "This model uses only convolutional layers.\n",
    "The range of time to extract features can be changed by changing (A) the kernel size and (B) the number of convolution layers.\n",
    "Convolutional layers are defined as `Conv2d()` in PyTorch.\n"
   ]
  },
  {
   "cell_type": "markdown",
   "id": "05dbb98b-6fa3-4a3a-99eb-f8db788c4e9b",
   "metadata": {},
   "source": [
    "#### Experiment 1-A: Kernel Size (`ks`)\n",
    "\n",
    "The sampling rate of the sensor is 30 Hz.\n",
    "That is, if kernel size is set to `ks=30`, features can be extracted from a range of 1 second in a single convolution operation.\n",
    "In our experiments, we will train models with the following values and compare the results.\n",
    "Note that the duration of the OpenPack workflow varies depending on the workflow, but typically ranges from 2 to 15 seconds.\n",
    "\n",
    "\n",
    "- `ks=5` (0.16sec; used in the paper)\n",
    "- `ks=15` (0.5sec)\n",
    "- `ks=30` (1.0sec)\n",
    "- `ks=60` (2.0sec)"
   ]
  },
  {
   "cell_type": "markdown",
   "id": "5d0b177d-fc26-4253-ad6e-7c30d7e37886",
   "metadata": {},
   "source": [
    "#### Experiment 1-B: Number of Convolutional Layers (`num_conv_layers`)\n",
    "\n",
    "You can also extend the range of feature extraction by layering convolution layers.\n",
    "Try the following values.\n",
    "\n",
    "- `num_conv_layers = 1`\n",
    "- `num_conv_layers = 4` (used in their paper)\n",
    "- `num_conv_layers = 8`\n"
   ]
  },
  {
   "cell_type": "markdown",
   "id": "3726ef0c-0213-4c4a-881e-0497ead10044",
   "metadata": {},
   "source": [
    "#### Experiment 1-C: (Kernel Size) x (Number of Layers)\n",
    "\n",
    "Both \"kernel size\" and \"number of convolution layers\" can change the extent to which features are extracted.\n",
    "The combination of these two parameters is also very important.\n",
    "For example, a small kernel size and a large number of layers can gradually capture long-term dependencies while capturing fine-grained features.\n",
    "This approach has often been used in computer vision models.\n",
    "Conversely, an approach with a large kernel size and a reduced number of layers can be more robust to local noise due to the larger convolutional range.\n",
    "Experiment to see which approach is better.\n"
   ]
  },
  {
   "cell_type": "markdown",
   "id": "b24527df-51b2-4109-8b46-f681e8086d3c",
   "metadata": {},
   "source": [
    "![](../../../assets/img/tutorial/cnn_receptive_field.jpg)"
   ]
  },
  {
   "cell_type": "code",
   "execution_count": 6,
   "id": "ba0be43d-5ece-4e69-abde-eff156cc7c90",
   "metadata": {},
   "outputs": [],
   "source": [
    "class DeepConvLstmV1(nn.Module):\n",
    "    \"\"\"CNN Only\n",
    "    \"\"\"\n",
    "    def __init__(self, in_ch: int = 3, num_classes: int = None):\n",
    "        super().__init__()\n",
    "        if num_classes is None:\n",
    "            num_classes = len(OPENPACK_OPERATIONS)\n",
    "\n",
    "        # -- [1] CNN  --\n",
    "        # *** Edit Here ***\n",
    "        # NOTE: Experiment 1-A: Kernel Size (NOTE: set odd number)\n",
    "        ks = 5\n",
    "        # NOTE: Experiment 1-B: # of convolutional layers (Default: 4)\n",
    "        num_conv_layers = 4\n",
    "        # ******************\n",
    "        num_conv_filter = 64 # convolutional filters (Default: 64)\n",
    "        \n",
    "        blocks = []\n",
    "        for i in range(num_conv_layers):\n",
    "            in_ch_ = in_ch if i == 0 else num_conv_filter \n",
    "            blocks.append(\n",
    "                nn.Sequential(\n",
    "                    nn.Conv2d(in_ch_, num_conv_filter, kernel_size=(ks, 1), padding=(ks//2, 0)),\n",
    "                    nn.BatchNorm2d(num_conv_filter),\n",
    "                    nn.ReLU(),\n",
    "                )\n",
    "            )\n",
    "        self.conv_blocks = nn.ModuleList(blocks)\n",
    "\n",
    "        # -- [3] Output --\n",
    "        self.out8 = nn.Conv2d(\n",
    "            num_conv_filter,\n",
    "            num_classes,\n",
    "            1,\n",
    "            stride=1,\n",
    "            padding=0,\n",
    "        )\n",
    "\n",
    "    def forward(self, x: torch.Tensor) -> torch.Tensor:\n",
    "        \"\"\"\n",
    "        Args:\n",
    "            x (torch.Tensor): shape = (B, CH, T, 1)\n",
    "        Returns:\n",
    "            torch.Tensor: shape = (B, N_CLASSES, T, 1)\n",
    "        \"\"\"\n",
    "        # -- [1] Conv --\n",
    "        for block in self.conv_blocks:\n",
    "            x = block(x)\n",
    "            \n",
    "        # -- [3] Output --\n",
    "        x = self.out8(x)\n",
    "        return x\n"
   ]
  },
  {
   "cell_type": "markdown",
   "id": "388776b2-e3b5-40f6-a6e5-587ea2297089",
   "metadata": {},
   "source": [
    "### 5-4: DeepConvLstm (ver.2)\n",
    "\n",
    "This is the model architecture proposed in the paper, with an LSTM layer added to ver. 1.\n",
    "The LSTM enables the model to extract long-term dependencies."
   ]
  },
  {
   "cell_type": "code",
   "execution_count": 7,
   "id": "932a3e8b-34e5-4052-9f7b-c025f5ece061",
   "metadata": {},
   "outputs": [],
   "source": [
    "class DeepConvLstm(nn.Module):\n",
    "    \"\"\"Architecture proposed in the paper.\n",
    "    \"\"\"\n",
    "    def __init__(self, in_ch: int = 3, num_classes: int = None):\n",
    "        super().__init__()\n",
    "        if num_classes is None:\n",
    "            num_classes = len(OPENPACK_OPERATIONS)\n",
    "\n",
    "        # -- [1] CNN --\n",
    "        # *** Edit Here ***\n",
    "        num_conv_layers = 4 # convolutional layers (Default: 4)\n",
    "        num_conv_filter = 64 # convolutional filters (Default: 64)\n",
    "        ks = 5 # kernel size, \n",
    "        # ******************\n",
    "        \n",
    "        blocks = []\n",
    "        for i in range(num_conv_layers):\n",
    "            in_ch_ = in_ch if i == 0 else 64\n",
    "            blocks.append(\n",
    "                nn.Sequential(\n",
    "                    nn.Conv2d(in_ch_, 64, kernel_size=(5, 1), padding=(2, 0)),\n",
    "                    nn.BatchNorm2d(64),\n",
    "                    nn.ReLU(),\n",
    "                )\n",
    "            )\n",
    "        self.conv_blocks = nn.ModuleList(blocks)\n",
    "\n",
    "        # -- [2] LSTM --\n",
    "        # *** Edit Here ***        \n",
    "        hidden_units = 128 # number of hidden units for LSTM\n",
    "        # ******************\n",
    "        \n",
    "        self.lstm6 = nn.LSTM(num_conv_filter, hidden_units, batch_first=True)\n",
    "        self.lstm7 = nn.LSTM(hidden_units, hidden_units, batch_first=True)\n",
    "        self.dropout6 = nn.Dropout(p=0.5)\n",
    "        self.dropout7 = nn.Dropout(p=0.5)\n",
    "\n",
    "        # -- [3] Output --\n",
    "        self.out8 = nn.Conv2d(\n",
    "            hidden_units,\n",
    "            num_classes,\n",
    "            1,\n",
    "            stride=1,\n",
    "            padding=0,\n",
    "        )\n",
    "\n",
    "    def forward(self, x: torch.Tensor) -> torch.Tensor:\n",
    "        \"\"\"\n",
    "        Args:\n",
    "            x (torch.Tensor): shape = (B, CH, T, 1)\n",
    "        Returns:\n",
    "            torch.Tensor: shape = (B, N_CLASSES, T, 1)\n",
    "        \"\"\"\n",
    "        # -- [1] Conv --\n",
    "        for block in self.conv_blocks:\n",
    "            x = block(x)\n",
    "\n",
    "        # -- [2] LSTM (!! Added !!) --\n",
    "        # Reshape: (B, CH, 1, T) -> (B, T, CH)\n",
    "        x = x.squeeze(3).transpose(1, 2)\n",
    "\n",
    "        x, _ = self.lstm6(x)\n",
    "        x = self.dropout6(x)\n",
    "        x, _ = self.lstm7(x)\n",
    "        x = self.dropout7(x)\n",
    "\n",
    "        # Reshape: (B, T, CH) -> (B, CH, T, 1)\n",
    "        x = x.transpose(1, 2).unsqueeze(3) \n",
    "        \n",
    "        # -- [3] Output --\n",
    "        x = self.out8(x)\n",
    "        return x\n"
   ]
  },
  {
   "cell_type": "markdown",
   "id": "c5b37cb8-0da8-4bd0-934c-b91b9d7f27f7",
   "metadata": {},
   "source": [
    "### 5-5: DeepConvLstm (ver.3)\n",
    "\n",
    "The LSTM layer in ver. 2 was replaced with a bi-directional LSTM layer to enable the extraction of backward as well as forward time dependence.\n",
    "This change allows us to predict the activity of interest not only from the previous activity, but also from the next activity "
   ]
  },
  {
   "cell_type": "code",
   "execution_count": 8,
   "id": "b96841a0-cfbd-4113-b23e-32c19138bd1a",
   "metadata": {},
   "outputs": [],
   "source": [
    "class DeepConvLstmV3(nn.Module):\n",
    "    def __init__(self, in_ch: int = 3, num_classes: int = None):\n",
    "        super().__init__()\n",
    "        if num_classes is None:\n",
    "            num_classes = len(OPENPACK_OPERATIONS)\n",
    "\n",
    "        # -- [1] CNN --\n",
    "        # *** Edit Here ***\n",
    "        num_conv_layers = 4 # convolutional layers (Default: 4)\n",
    "        num_conv_filter = 64 # convolutional filters (Default: 64)\n",
    "        ks = 5 # kernel size, \n",
    "        # ******************\n",
    "        \n",
    "        blocks = []\n",
    "        for i in range(num_conv_layers):\n",
    "            in_ch_ = in_ch if i == 0 else 64\n",
    "            blocks.append(\n",
    "                nn.Sequential(\n",
    "                    nn.Conv2d(in_ch_, 64, kernel_size=(5, 1), padding=(2, 0)),\n",
    "                    nn.BatchNorm2d(64),\n",
    "                    nn.ReLU(),\n",
    "                )\n",
    "            )\n",
    "        self.conv_blocks = nn.ModuleList(blocks)\n",
    "\n",
    "        # -- [2] LSTM --\n",
    "        # *** Edit Here ***        \n",
    "        hidden_units = 128 # number of hidden units for Bi-LSTM\n",
    "        # ******************\n",
    "        \n",
    "        # NOTE: enable ``bidirectional``\n",
    "        self.lstm6 = nn.LSTM(num_conv_filter, hidden_units, batch_first=True, bidirectional=True)\n",
    "        self.lstm7 = nn.LSTM(hidden_units*2, hidden_units, batch_first=True,  bidirectional=True)\n",
    "        self.dropout6 = nn.Dropout(p=0.5)\n",
    "        self.dropout7 = nn.Dropout(p=0.5)\n",
    "\n",
    "        # -- [3] Output --\n",
    "        self.out8 = nn.Conv2d(\n",
    "            hidden_units * 2,\n",
    "            num_classes,\n",
    "            1,\n",
    "            stride=1,\n",
    "            padding=0,\n",
    "        )\n",
    "\n",
    "    def forward(self, x: torch.Tensor) -> torch.Tensor:\n",
    "        \"\"\"\n",
    "        Args:\n",
    "            x (torch.Tensor): shape = (B, CH, T, 1)\n",
    "        Returns:\n",
    "            torch.Tensor: shape = (B, N_CLASSES, T, 1)\n",
    "        \"\"\"\n",
    "        # -- [1] Conv --\n",
    "        for block in self.conv_blocks:\n",
    "            x = block(x)\n",
    "\n",
    "        # -- [2] LSTM --\n",
    "        # Reshape: (B, CH, 1, T) -> (B, T, CH)\n",
    "        x = x.squeeze(3).transpose(1, 2)\n",
    "\n",
    "        x, _ = self.lstm6(x)\n",
    "        x = self.dropout6(x)\n",
    "        x, _ = self.lstm7(x)\n",
    "        x = self.dropout7(x)\n",
    "\n",
    "        # Reshape: (B, T, CH) -> (B, CH, T, 1)\n",
    "        x = x.transpose(1, 2).unsqueeze(3) \n",
    "        \n",
    "        # -- [3] Output --\n",
    "        x = self.out8(x)\n",
    "        return x\n"
   ]
  },
  {
   "cell_type": "code",
   "execution_count": null,
   "id": "2003851c-72f6-43cd-bb32-668d4420e0f1",
   "metadata": {},
   "outputs": [],
   "source": []
  },
  {
   "cell_type": "markdown",
   "id": "7d581508-54ab-44b1-8351-d7e3a31efc0a",
   "metadata": {},
   "source": [
    "## [6] Training"
   ]
  },
  {
   "cell_type": "markdown",
   "id": "40f19069-4df8-49f6-9d10-3290b2709d23",
   "metadata": {},
   "source": [
    "### 6-1: DataModule\n",
    "\n",
    "Initializes the module responsible for loading and preprocessing the dataset.\n",
    "Run the this block as-is without editing."
   ]
  },
  {
   "cell_type": "code",
   "execution_count": 9,
   "id": "59e2f279-35fa-421d-b9aa-7b0042906759",
   "metadata": {},
   "outputs": [],
   "source": [
    "class OpenPackImuDataModule(optorch.data.OpenPackBaseDataModule):\n",
    "    dataset_class = optorch.data.datasets.OpenPackImu\n",
    "\n",
    "    def get_kwargs_for_datasets(self, stage: Optional[str] = None) -> Dict:\n",
    "        kwargs = {\n",
    "            \"window\": self.cfg.train.window,\n",
    "            \"debug\": self.cfg.debug,\n",
    "        }\n",
    "        return kwargs"
   ]
  },
  {
   "cell_type": "markdown",
   "id": "eca2982d-33b3-43bf-a3e8-705eeb097749",
   "metadata": {
    "tags": []
   },
   "source": [
    "### 6-2: Lightning Module (EDIT HERE !!)\n",
    "\n",
    "This module is responsible for training, testing.\n",
    "Please uncomment the model you want to try in `init_model` and run this block after the above DataModulle cell.\n"
   ]
  },
  {
   "cell_type": "code",
   "execution_count": 10,
   "id": "652fef87-bb07-46b2-994f-ada53675ee7f",
   "metadata": {},
   "outputs": [],
   "source": [
    "class MyModelLM(optorch.lightning.BaseLightningModule):\n",
    "\n",
    "    def init_model(self, cfg: DictConfig) -> torch.nn.Module:\n",
    "        \"\"\" Initalize your model\n",
    "        \n",
    "        Generate an instance of the model you defined in the above.\n",
    "        Uncomment the target model.\n",
    "        \"\"\"\n",
    "        # !! Edit Here !!\n",
    "        # NOTE: Please select the model you want to use!\n",
    "        model = DeepConvLstmV1()\n",
    "        # model = DeepConvLstm()\n",
    "        # model = DeepConvLstmV3()\n",
    "        return model\n",
    "    \n",
    "    \n",
    "    def init_criterion(self, cfg: DictConfig):\n",
    "        \"\"\"Initialize loss function\n",
    "        \"\"\"\n",
    "        ignore_cls = [(i, c) for i, c in enumerate(cfg.dataset.classes.classes) if c.is_ignore]\n",
    "        \n",
    "        criterion = torch.nn.CrossEntropyLoss(\n",
    "            ignore_index=ignore_cls[-1][0]\n",
    "        )\n",
    "        return criterion\n",
    "\n",
    "    def training_step(self, batch: Dict, batch_idx: int) -> Dict:\n",
    "        \"\"\"Definition of training loop. Get mini-batch and return loss.\n",
    "        \"\"\"\n",
    "        x = batch[\"x\"].to(device=self.device, dtype=torch.float)\n",
    "        t = batch[\"t\"].to(device=self.device, dtype=torch.long)\n",
    "        y_hat = self(x).squeeze(3)\n",
    "\n",
    "        loss = self.criterion(y_hat, t)\n",
    "        acc = self.calc_accuracy(y_hat, t)\n",
    "        return {\"loss\": loss, \"acc\": acc}\n",
    "\n",
    "    def test_step(self, batch: Dict, batch_idx: int) -> Dict:\n",
    "        \"\"\"Definition of inference step. Get mini-batch and return model outputs.\n",
    "        \"\"\"\n",
    "        x = batch[\"x\"].to(device=self.device, dtype=torch.float)\n",
    "        t = batch[\"t\"].to(device=self.device, dtype=torch.long)\n",
    "        ts_unix = batch[\"ts\"]\n",
    "\n",
    "        y_hat = self(x).squeeze(3)\n",
    "\n",
    "        outputs = dict(t=t, y=y_hat, unixtime=ts_unix)\n",
    "        return outputs\n"
   ]
  },
  {
   "cell_type": "code",
   "execution_count": 11,
   "id": "6ec859ea-fc23-4f48-a611-8253523ad245",
   "metadata": {},
   "outputs": [],
   "source": [
    "def test(cfg: DictConfig, datamodule: pl.LightningDataModule, trainer: pl.Trainer):\n",
    "    \"\"\" Evaluate your model with test data \"\"\"\n",
    "    datamodule.setup(\"test\")\n",
    "    dataloaders = datamodule.test_dataloader()\n",
    "    split = cfg.dataset.split.test\n",
    "\n",
    "    # inference on the test data\n",
    "    outputs = dict()\n",
    "    for i, dataloader in enumerate(dataloaders):\n",
    "        user, session = split[i]\n",
    "        logger.info(f\"test on {user}-{session}\")\n",
    "\n",
    "        trainer.test(plmodel, dataloader)\n",
    "\n",
    "        # save model outputs\n",
    "        pred_dir = Path(\n",
    "            cfg.path.logdir.predict.format(user=user, session=session)\n",
    "        )\n",
    "        pred_dir.mkdir(parents=True, exist_ok=True)\n",
    "\n",
    "        for key, arr in plmodel.test_results.items():\n",
    "            path = Path(pred_dir, f\"{key}.npy\")\n",
    "            np.save(path, arr)\n",
    "            logger.info(f\"save {key}[shape={arr.shape}] to {path}\")\n",
    "\n",
    "        outputs[f\"{user}-{session}\"] = {\n",
    "            \"t_idx\": plmodel.test_results.get(\"t\"),\n",
    "            \"y\": plmodel.test_results.get(\"y\"),\n",
    "            \"unixtime\": plmodel.test_results.get(\"unixtime\"),\n",
    "        }\n",
    "    \n",
    "    # calculate metrics\n",
    "    df_summary = eval_operation_segmentation_wrapper(\n",
    "        cfg, outputs, OPENPACK_OPERATIONS)\n",
    "       \n",
    "    return outputs, df_summary\n",
    "\n",
    "\n",
    "def plot_timeline(samples, t_idx, y_softmax, title_prefix=\"\"):\n",
    "    \"\"\"visualize model outputs as heatmap \"\"\"\n",
    "    fig, ax0 = plt.subplots(1, 1, figsize=(20, 4))\n",
    "\n",
    "    prob = y_softmax[slice(*samples)].transpose(1, 0, 2).reshape(11, -1)\n",
    "    gt = t_idx[slice(*samples)].ravel()\n",
    "    pred = prob.argmax(axis=0)\n",
    "    \n",
    "    print(f\"prob={prob.shape} pred={pred.shape}, gt={gt.shape}\")\n",
    "    seq_len = prob.shape[1]\n",
    "\n",
    "    # -- Prob --\n",
    "    sns.heatmap(\n",
    "        prob,\n",
    "        vmin=0, vmax=1.0, cmap=\"viridis\", cbar=False,\n",
    "        ax=ax0\n",
    "    )\n",
    "\n",
    "    # -- Ground Truth --\n",
    "    x = np.arange(seq_len)\n",
    "    ax0.plot(\n",
    "        x, gt + 0.5, label=\"ground truth\",\n",
    "        linewidth=5, color=\"C3\", \n",
    "    )\n",
    "\n",
    "    # -- Style --\n",
    "    ax0.invert_yaxis()\n",
    "    xticks = np.arange(0, seq_len, 30 * 30)\n",
    "    xticks_minor = np.arange(0, seq_len, 30 * 10)\n",
    "    ax0.set_xticks(xticks)\n",
    "    ax0.set_xticklabels(xticks // 30 + samples[0] * 60, rotation=0)\n",
    "    ax0.set_xticks(xticks_minor, minor=True)\n",
    "\n",
    "    ax0.set_yticks(np.arange(11) + 0.5)\n",
    "    ax0.set_yticklabels(np.arange(11), rotation=0)\n",
    "    \n",
    "    \n",
    "    ax0.set_xlabel(\"Time [s]\", fontsize=\"large\", fontweight=\"bold\")\n",
    "    ax0.set_ylabel(\"Class Index\", fontsize=\"large\", fontweight=\"bold\")\n",
    "    ax0.set_title(f\"{title_prefix} | {samples[0]}min ~ {samples[1]}min\", fontsize=\"xx-large\", fontweight=\"bold\")\n",
    "    ax0.grid(True, which=\"minor\", linestyle=\":\")\n",
    "    ax0.legend(loc=\"upper right\")\n",
    "\n",
    "    fig.tight_layout()\n",
    "    return fig\n"
   ]
  },
  {
   "cell_type": "markdown",
   "id": "e7a61ead-99e5-4072-8fd3-e5abecc5529a",
   "metadata": {},
   "source": [
    "### 6-3: Initialize Model, Datasets, Trainer"
   ]
  },
  {
   "cell_type": "code",
   "execution_count": 12,
   "id": "f8d63c1a-20ce-4581-8e79-7826e2afd083",
   "metadata": {},
   "outputs": [
    {
     "name": "stderr",
     "output_type": "stream",
     "text": [
      "2022-10-05 22:07:24 | INFO | openpack_torch.utils.random | Reset Seeds: python=0, numpy=0, Pytorch (cpu=0, cuda=0)\n"
     ]
    }
   ],
   "source": [
    "# Reset random seed for better reproducibility\n",
    "optorch.utils.reset_seed(seed=0)\n",
    "\n",
    "device = torch.device(\"cuda\")\n",
    "logdir = Path(cfg.path.logdir.rootdir)\n",
    "logger.debug(f\"logdir = {logdir}\")\n",
    "\n",
    "datamodule = OpenPackImuDataModule(cfg) # (1) dataset\n",
    "plmodel = MyModelLM(cfg).to(dtype=torch.float, device=device) # (2) model"
   ]
  },
  {
   "cell_type": "code",
   "execution_count": 13,
   "id": "04df6672-0398-4daa-b38e-5b04e428db63",
   "metadata": {},
   "outputs": [
    {
     "name": "stderr",
     "output_type": "stream",
     "text": [
      "/opt/conda/lib/python3.8/site-packages/pytorch_lightning/trainer/connectors/accelerator_connector.py:446: LightningDeprecationWarning: Setting `Trainer(gpus=[0])` is deprecated in v1.7 and will be removed in v2.0. Please use `Trainer(accelerator='gpu', devices=[0])` instead.\n",
      "  rank_zero_deprecation(\n",
      "GPU available: True (cuda), used: True\n",
      "TPU available: False, using: 0 TPU cores\n",
      "IPU available: False, using: 0 IPUs\n",
      "HPU available: False, using: 0 HPUs\n"
     ]
    }
   ],
   "source": [
    "# NOTE: set the training epochs\n",
    "num_epoch = 50 \n",
    "\n",
    "checkpoint_callback = pl.callbacks.ModelCheckpoint(\n",
    "    save_top_k=0,\n",
    "    save_last=True,\n",
    "    monitor=None,\n",
    ")\n",
    "\n",
    "trainer = pl.Trainer(\n",
    "    gpus=[0],\n",
    "    max_epochs=num_epoch,\n",
    "    logger=False,  # disable logging module\n",
    "    default_root_dir=logdir,\n",
    "    enable_progress_bar=False,  # disable progress bar\n",
    "    enable_checkpointing=True,\n",
    "    callbacks=[checkpoint_callback],\n",
    ")\n",
    "logger.debug(f\"logdir = {logdir}\")"
   ]
  },
  {
   "cell_type": "code",
   "execution_count": 14,
   "id": "c44f0a87-ca40-40d8-a6ee-16d9c38e0c1c",
   "metadata": {},
   "outputs": [
    {
     "data": {
      "text/plain": [
       "MyModelLM(\n",
       "  (net): DeepConvLstmV1(\n",
       "    (conv_blocks): ModuleList(\n",
       "      (0): Sequential(\n",
       "        (0): Conv2d(3, 64, kernel_size=(5, 1), stride=(1, 1), padding=(2, 0))\n",
       "        (1): BatchNorm2d(64, eps=1e-05, momentum=0.1, affine=True, track_running_stats=True)\n",
       "        (2): ReLU()\n",
       "      )\n",
       "      (1): Sequential(\n",
       "        (0): Conv2d(64, 64, kernel_size=(5, 1), stride=(1, 1), padding=(2, 0))\n",
       "        (1): BatchNorm2d(64, eps=1e-05, momentum=0.1, affine=True, track_running_stats=True)\n",
       "        (2): ReLU()\n",
       "      )\n",
       "      (2): Sequential(\n",
       "        (0): Conv2d(64, 64, kernel_size=(5, 1), stride=(1, 1), padding=(2, 0))\n",
       "        (1): BatchNorm2d(64, eps=1e-05, momentum=0.1, affine=True, track_running_stats=True)\n",
       "        (2): ReLU()\n",
       "      )\n",
       "      (3): Sequential(\n",
       "        (0): Conv2d(64, 64, kernel_size=(5, 1), stride=(1, 1), padding=(2, 0))\n",
       "        (1): BatchNorm2d(64, eps=1e-05, momentum=0.1, affine=True, track_running_stats=True)\n",
       "        (2): ReLU()\n",
       "      )\n",
       "    )\n",
       "    (out8): Conv2d(64, 11, kernel_size=(1, 1), stride=(1, 1))\n",
       "  )\n",
       "  (criterion): CrossEntropyLoss()\n",
       ")"
      ]
     },
     "execution_count": 14,
     "metadata": {},
     "output_type": "execute_result"
    }
   ],
   "source": [
    "plmodel"
   ]
  },
  {
   "cell_type": "markdown",
   "id": "fc4bfa59-1e6e-4f6e-ba66-2f8b89c6cd61",
   "metadata": {},
   "source": [
    "### 6-4: Training"
   ]
  },
  {
   "cell_type": "markdown",
   "id": "9f16a823-8d27-4504-a8b2-1bd797656480",
   "metadata": {},
   "source": [
    "#### 6-4-1: Check Model Outputs before Training"
   ]
  },
  {
   "cell_type": "code",
   "execution_count": 15,
   "id": "c8c2a4f2-1158-4530-9db7-4f60b51c5a02",
   "metadata": {},
   "outputs": [
    {
     "name": "stderr",
     "output_type": "stream",
     "text": [
      "2022-10-05 22:07:26 | WARNING | openpack_torch.data.datasets | No preprocessing is applied.\n",
      "2022-10-05 22:07:26 | WARNING | openpack_torch.data.datasets | No preprocessing is applied.\n",
      "2022-10-05 22:07:26 | WARNING | openpack_torch.data.datasets | No preprocessing is applied.\n",
      "2022-10-05 22:07:26 | INFO | openpack_torch.data.datamodule | dataset[train]: None\n",
      "2022-10-05 22:07:26 | INFO | openpack_torch.data.datamodule | dataset[val]: None\n",
      "2022-10-05 22:07:26 | INFO | openpack_torch.data.datamodule | dataset[test]: {'U0106-S0100': <openpack_torch.data.datasets.OpenPackImu object at 0x7f87bfb69f40>, 'U0106-S0300': <openpack_torch.data.datasets.OpenPackImu object at 0x7f87b0065d30>, 'U0106-S0500': <openpack_torch.data.datasets.OpenPackImu object at 0x7f87b0090700>}\n",
      "2022-10-05 22:07:26 | INFO | openpack_torch.data.datamodule | dataset[submission]: None\n",
      "2022-10-05 22:07:26 | INFO | __main__ | test on U0106-S0100\n",
      "LOCAL_RANK: 0 - CUDA_VISIBLE_DEVICES: [0]\n",
      "2022-10-05 22:07:27 | INFO | __main__ | save t[shape=(50, 1800)] to /content/logs/atr-left-wrist/DeepConvLSTM/I01-EXP1-V1-nb/pred/U0106-S0100/t.npy\n",
      "2022-10-05 22:07:27 | INFO | __main__ | save y[shape=(50, 11, 1800)] to /content/logs/atr-left-wrist/DeepConvLSTM/I01-EXP1-V1-nb/pred/U0106-S0100/y.npy\n",
      "2022-10-05 22:07:27 | INFO | __main__ | save unixtime[shape=(50, 1800)] to /content/logs/atr-left-wrist/DeepConvLSTM/I01-EXP1-V1-nb/pred/U0106-S0100/unixtime.npy\n",
      "2022-10-05 22:07:27 | INFO | __main__ | test on U0106-S0300\n",
      "LOCAL_RANK: 0 - CUDA_VISIBLE_DEVICES: [0]\n",
      "2022-10-05 22:07:27 | INFO | __main__ | save t[shape=(35, 1800)] to /content/logs/atr-left-wrist/DeepConvLSTM/I01-EXP1-V1-nb/pred/U0106-S0300/t.npy\n",
      "2022-10-05 22:07:27 | INFO | __main__ | save y[shape=(35, 11, 1800)] to /content/logs/atr-left-wrist/DeepConvLSTM/I01-EXP1-V1-nb/pred/U0106-S0300/y.npy\n",
      "2022-10-05 22:07:27 | INFO | __main__ | save unixtime[shape=(35, 1800)] to /content/logs/atr-left-wrist/DeepConvLSTM/I01-EXP1-V1-nb/pred/U0106-S0300/unixtime.npy\n",
      "2022-10-05 22:07:27 | INFO | __main__ | test on U0106-S0500\n",
      "LOCAL_RANK: 0 - CUDA_VISIBLE_DEVICES: [0]\n",
      "2022-10-05 22:07:27 | INFO | __main__ | save t[shape=(18, 1800)] to /content/logs/atr-left-wrist/DeepConvLSTM/I01-EXP1-V1-nb/pred/U0106-S0500/t.npy\n",
      "2022-10-05 22:07:27 | INFO | __main__ | save y[shape=(18, 11, 1800)] to /content/logs/atr-left-wrist/DeepConvLSTM/I01-EXP1-V1-nb/pred/U0106-S0500/y.npy\n",
      "2022-10-05 22:07:27 | INFO | __main__ | save unixtime[shape=(18, 1800)] to /content/logs/atr-left-wrist/DeepConvLSTM/I01-EXP1-V1-nb/pred/U0106-S0500/unixtime.npy\n"
     ]
    }
   ],
   "source": [
    "outputs, df_summary = test(cfg, datamodule, trainer)"
   ]
  },
  {
   "cell_type": "code",
   "execution_count": 16,
   "id": "3ec33c8a-5f50-4057-b71d-b62796a43ab2",
   "metadata": {},
   "outputs": [
    {
     "data": {
      "text/html": [
       "<div>\n",
       "<style scoped>\n",
       "    .dataframe tbody tr th:only-of-type {\n",
       "        vertical-align: middle;\n",
       "    }\n",
       "\n",
       "    .dataframe tbody tr th {\n",
       "        vertical-align: top;\n",
       "    }\n",
       "\n",
       "    .dataframe thead th {\n",
       "        text-align: right;\n",
       "    }\n",
       "</style>\n",
       "<table border=\"1\" class=\"dataframe\">\n",
       "  <thead>\n",
       "    <tr style=\"text-align: right;\">\n",
       "      <th></th>\n",
       "      <th>name</th>\n",
       "      <th>id</th>\n",
       "      <th>precision</th>\n",
       "      <th>recall</th>\n",
       "      <th>f1</th>\n",
       "      <th>support</th>\n",
       "      <th>key</th>\n",
       "    </tr>\n",
       "  </thead>\n",
       "  <tbody>\n",
       "    <tr>\n",
       "      <th>36</th>\n",
       "      <td>avg/macro</td>\n",
       "      <td>-1</td>\n",
       "      <td>0.053161</td>\n",
       "      <td>0.101657</td>\n",
       "      <td>0.030255</td>\n",
       "      <td>None</td>\n",
       "      <td>all</td>\n",
       "    </tr>\n",
       "    <tr>\n",
       "      <th>37</th>\n",
       "      <td>avg/weighted</td>\n",
       "      <td>-1</td>\n",
       "      <td>0.047471</td>\n",
       "      <td>0.157172</td>\n",
       "      <td>0.044236</td>\n",
       "      <td>None</td>\n",
       "      <td>all</td>\n",
       "    </tr>\n",
       "    <tr>\n",
       "      <th>38</th>\n",
       "      <td>Picking</td>\n",
       "      <td>100</td>\n",
       "      <td>0.000000</td>\n",
       "      <td>0.000000</td>\n",
       "      <td>0.000000</td>\n",
       "      <td>552</td>\n",
       "      <td>all</td>\n",
       "    </tr>\n",
       "    <tr>\n",
       "      <th>39</th>\n",
       "      <td>Relocate Item Label</td>\n",
       "      <td>200</td>\n",
       "      <td>0.156606</td>\n",
       "      <td>1.000000</td>\n",
       "      <td>0.270803</td>\n",
       "      <td>921</td>\n",
       "      <td>all</td>\n",
       "    </tr>\n",
       "    <tr>\n",
       "      <th>40</th>\n",
       "      <td>Assemble Box</td>\n",
       "      <td>300</td>\n",
       "      <td>0.000000</td>\n",
       "      <td>0.000000</td>\n",
       "      <td>0.000000</td>\n",
       "      <td>971</td>\n",
       "      <td>all</td>\n",
       "    </tr>\n",
       "    <tr>\n",
       "      <th>41</th>\n",
       "      <td>Insert Items</td>\n",
       "      <td>400</td>\n",
       "      <td>0.000000</td>\n",
       "      <td>0.000000</td>\n",
       "      <td>0.000000</td>\n",
       "      <td>489</td>\n",
       "      <td>all</td>\n",
       "    </tr>\n",
       "    <tr>\n",
       "      <th>42</th>\n",
       "      <td>Close Box</td>\n",
       "      <td>500</td>\n",
       "      <td>0.000000</td>\n",
       "      <td>0.000000</td>\n",
       "      <td>0.000000</td>\n",
       "      <td>645</td>\n",
       "      <td>all</td>\n",
       "    </tr>\n",
       "    <tr>\n",
       "      <th>43</th>\n",
       "      <td>Attach Box Label</td>\n",
       "      <td>600</td>\n",
       "      <td>0.000000</td>\n",
       "      <td>0.000000</td>\n",
       "      <td>0.000000</td>\n",
       "      <td>328</td>\n",
       "      <td>all</td>\n",
       "    </tr>\n",
       "    <tr>\n",
       "      <th>44</th>\n",
       "      <td>Scan Label</td>\n",
       "      <td>700</td>\n",
       "      <td>0.000000</td>\n",
       "      <td>0.000000</td>\n",
       "      <td>0.000000</td>\n",
       "      <td>680</td>\n",
       "      <td>all</td>\n",
       "    </tr>\n",
       "    <tr>\n",
       "      <th>45</th>\n",
       "      <td>Attach Shipping Label</td>\n",
       "      <td>800</td>\n",
       "      <td>0.000000</td>\n",
       "      <td>0.000000</td>\n",
       "      <td>0.000000</td>\n",
       "      <td>462</td>\n",
       "      <td>all</td>\n",
       "    </tr>\n",
       "    <tr>\n",
       "      <th>46</th>\n",
       "      <td>Put on Back Table</td>\n",
       "      <td>900</td>\n",
       "      <td>0.375000</td>\n",
       "      <td>0.016575</td>\n",
       "      <td>0.031746</td>\n",
       "      <td>362</td>\n",
       "      <td>all</td>\n",
       "    </tr>\n",
       "    <tr>\n",
       "      <th>47</th>\n",
       "      <td>Fill out Order</td>\n",
       "      <td>1000</td>\n",
       "      <td>0.000000</td>\n",
       "      <td>0.000000</td>\n",
       "      <td>0.000000</td>\n",
       "      <td>488</td>\n",
       "      <td>all</td>\n",
       "    </tr>\n",
       "  </tbody>\n",
       "</table>\n",
       "</div>"
      ],
      "text/plain": [
       "                     name    id  precision    recall        f1 support  key\n",
       "36              avg/macro    -1   0.053161  0.101657  0.030255    None  all\n",
       "37           avg/weighted    -1   0.047471  0.157172  0.044236    None  all\n",
       "38                Picking   100   0.000000  0.000000  0.000000     552  all\n",
       "39    Relocate Item Label   200   0.156606  1.000000  0.270803     921  all\n",
       "40           Assemble Box   300   0.000000  0.000000  0.000000     971  all\n",
       "41           Insert Items   400   0.000000  0.000000  0.000000     489  all\n",
       "42              Close Box   500   0.000000  0.000000  0.000000     645  all\n",
       "43       Attach Box Label   600   0.000000  0.000000  0.000000     328  all\n",
       "44             Scan Label   700   0.000000  0.000000  0.000000     680  all\n",
       "45  Attach Shipping Label   800   0.000000  0.000000  0.000000     462  all\n",
       "46      Put on Back Table   900   0.375000  0.016575  0.031746     362  all\n",
       "47         Fill out Order  1000   0.000000  0.000000  0.000000     488  all"
      ]
     },
     "execution_count": 16,
     "metadata": {},
     "output_type": "execute_result"
    }
   ],
   "source": [
    "df_summary[df_summary[\"key\"]==\"all\"]"
   ]
  },
  {
   "cell_type": "code",
   "execution_count": 17,
   "id": "3a91b6cf-b774-4b4c-b4a2-12da4630cce3",
   "metadata": {},
   "outputs": [
    {
     "name": "stdout",
     "output_type": "stream",
     "text": [
      "unixtimes=(18, 1800), t_idx=(18, 1800), y=(18, 11, 1800), y_softmax=(18, 11, 1800)\n"
     ]
    }
   ],
   "source": [
    "# Segment key to visualize\n",
    "key = \"U0106-S0500\"\n",
    "\n",
    "# Get predictions\n",
    "unixtimes = outputs[key][\"unixtime\"] \n",
    "t_idx = outputs[key][\"t_idx\"]\n",
    "y = outputs[key][\"y\"]\n",
    "y_softmax = softmax(y, axis=1)\n",
    "print(f\"unixtimes={unixtimes.shape}, t_idx={t_idx.shape}, y={y.shape}, y_softmax={y_softmax.shape}\")"
   ]
  },
  {
   "cell_type": "code",
   "execution_count": 18,
   "id": "acf881b1-dc51-45d0-afda-98679aeb7675",
   "metadata": {},
   "outputs": [
    {
     "name": "stdout",
     "output_type": "stream",
     "text": [
      "prob=(11, 18000) pred=(18000,), gt=(18000,)\n"
     ]
    },
    {
     "data": {
      "image/png": "[encoded data removed]",
      "text/plain": [
       "<Figure size 1440x288 with 1 Axes>"
      ]
     },
     "metadata": {
      "needs_background": "light"
     },
     "output_type": "display_data"
    }
   ],
   "source": [
    "samples = (0, 10)\n",
    "\n",
    "fig = plot_timeline(samples, t_idx, y_softmax, title_prefix=f\"{cfg.model.name} | {key}\")\n",
    "fig.show()"
   ]
  },
  {
   "cell_type": "markdown",
   "id": "dd4c6f21-9e77-4285-b9e1-514ce5055d9a",
   "metadata": {},
   "source": [
    "How to see the heatmap:\n",
    "\n",
    "- Red line: ground truth\n",
    "- Background: Prediction probabilities (high probabilities are shown in yellow. All classes have a low probability of being correct because they are random before training).\n",
    "- Horizontal axis: time\n",
    "- Vertical axis: Index of the action class (1 = Picking[ID100], 2=Relocate Label[ID=200], ...)\n",
    "\n",
    "Please remember these results before training and compare them with the results after training."
   ]
  },
  {
   "cell_type": "markdown",
   "id": "996d74a9-b366-40c7-b344-d71a932e3482",
   "metadata": {},
   "source": [
    "#### 6-4-2: Training"
   ]
  },
  {
   "cell_type": "code",
   "execution_count": 19,
   "id": "ccc3b111-16b1-41a1-b8a0-60112611968a",
   "metadata": {},
   "outputs": [
    {
     "name": "stderr",
     "output_type": "stream",
     "text": [
      "2022-10-05 22:07:28 | INFO | __main__ | Start training for 50 epochs.\n",
      "2022-10-05 22:07:29 | WARNING | openpack_torch.data.datasets | No preprocessing is applied.\n",
      "2022-10-05 22:07:29 | WARNING | openpack_torch.data.datasets | No preprocessing is applied.\n",
      "2022-10-05 22:07:29 | WARNING | openpack_torch.data.datasets | No preprocessing is applied.\n",
      "2022-10-05 22:07:29 | INFO | openpack_torch.data.datamodule | dataset[train]: OpenPackImu(index=533, num_sequence=15, submission=False)\n",
      "2022-10-05 22:07:29 | INFO | openpack_torch.data.datamodule | dataset[val]: {'U0106-S0200': <openpack_torch.data.datasets.OpenPackImu object at 0x7f8737d27640>, 'U0106-S0400': <openpack_torch.data.datasets.OpenPackImu object at 0x7f8737d21f40>}\n",
      "2022-10-05 22:07:29 | INFO | openpack_torch.data.datamodule | dataset[test]: None\n",
      "2022-10-05 22:07:29 | INFO | openpack_torch.data.datamodule | dataset[submission]: None\n",
      "LOCAL_RANK: 0 - CUDA_VISIBLE_DEVICES: [0]\n",
      "\n",
      "  | Name      | Type             | Params\n",
      "-----------------------------------------------\n",
      "0 | net       | DeepConvLstmV1   | 63.9 K\n",
      "1 | criterion | CrossEntropyLoss | 0     \n",
      "-----------------------------------------------\n",
      "63.9 K    Trainable params\n",
      "0         Non-trainable params\n",
      "63.9 K    Total params\n",
      "0.256     Total estimated model params size (MB)\n",
      "2022-10-05 22:07:30 | INFO | openpack_torch.lightning | Epoch[000] TRAIN: loss=-1.0000, acc=-1.0000 | VAL: loss= 2.3953, acc= 0.1528\n",
      "2022-10-05 22:07:30 | INFO | openpack_torch.lightning | Epoch[000] TRAIN: loss=-1.0000, acc=-1.0000 | VAL: loss= 2.3829, acc= 0.1804\n",
      "2022-10-05 22:07:31 | INFO | openpack_torch.lightning | Epoch[001] TRAIN: loss= 2.4221, acc= 0.1418 | VAL: loss= 2.2610, acc= 0.2807\n",
      "2022-10-05 22:07:31 | INFO | openpack_torch.lightning | Epoch[002] TRAIN: loss= 2.1963, acc= 0.2922 | VAL: loss= 2.1616, acc= 0.3143\n",
      "2022-10-05 22:07:32 | INFO | openpack_torch.lightning | Epoch[003] TRAIN: loss= 2.0826, acc= 0.3468 | VAL: loss= 2.1141, acc= 0.3209\n",
      "2022-10-05 22:07:32 | INFO | openpack_torch.lightning | Epoch[004] TRAIN: loss= 2.0161, acc= 0.3639 | VAL: loss= 2.0882, acc= 0.3237\n",
      "2022-10-05 22:07:33 | INFO | openpack_torch.lightning | Epoch[005] TRAIN: loss= 1.9652, acc= 0.3743 | VAL: loss= 2.0341, acc= 0.3337\n",
      "2022-10-05 22:07:33 | INFO | openpack_torch.lightning | Epoch[006] TRAIN: loss= 1.9240, acc= 0.3871 | VAL: loss= 2.0212, acc= 0.3309\n",
      "2022-10-05 22:07:34 | INFO | openpack_torch.lightning | Epoch[007] TRAIN: loss= 1.8904, acc= 0.3917 | VAL: loss= 1.9814, acc= 0.3394\n",
      "2022-10-05 22:07:34 | INFO | openpack_torch.lightning | Epoch[008] TRAIN: loss= 1.8625, acc= 0.3995 | VAL: loss= 1.9786, acc= 0.3355\n",
      "2022-10-05 22:07:35 | INFO | openpack_torch.lightning | Epoch[009] TRAIN: loss= 1.8374, acc= 0.4038 | VAL: loss= 1.9548, acc= 0.3387\n",
      "2022-10-05 22:07:35 | INFO | openpack_torch.lightning | Epoch[010] TRAIN: loss= 1.8118, acc= 0.4088 | VAL: loss= 1.9239, acc= 0.3462\n",
      "2022-10-05 22:07:36 | INFO | openpack_torch.lightning | Epoch[011] TRAIN: loss= 1.7929, acc= 0.4121 | VAL: loss= 1.9186, acc= 0.3466\n",
      "2022-10-05 22:07:37 | INFO | openpack_torch.lightning | Epoch[012] TRAIN: loss= 1.7743, acc= 0.4143 | VAL: loss= 1.8899, acc= 0.3505\n",
      "2022-10-05 22:07:37 | INFO | openpack_torch.lightning | Epoch[013] TRAIN: loss= 1.7519, acc= 0.4216 | VAL: loss= 1.9008, acc= 0.3466\n",
      "2022-10-05 22:07:38 | INFO | openpack_torch.lightning | Epoch[014] TRAIN: loss= 1.7349, acc= 0.4221 | VAL: loss= 1.8646, acc= 0.3537\n",
      "2022-10-05 22:07:38 | INFO | openpack_torch.lightning | Epoch[015] TRAIN: loss= 1.7207, acc= 0.4270 | VAL: loss= 1.8719, acc= 0.3502\n",
      "2022-10-05 22:07:39 | INFO | openpack_torch.lightning | Epoch[016] TRAIN: loss= 1.7055, acc= 0.4277 | VAL: loss= 1.8570, acc= 0.3532\n",
      "2022-10-05 22:07:39 | INFO | openpack_torch.lightning | Epoch[017] TRAIN: loss= 1.6924, acc= 0.4306 | VAL: loss= 1.8294, acc= 0.3684\n",
      "2022-10-05 22:07:40 | INFO | openpack_torch.lightning | Epoch[018] TRAIN: loss= 1.6783, acc= 0.4314 | VAL: loss= 1.8400, acc= 0.3564\n",
      "2022-10-05 22:07:40 | INFO | openpack_torch.lightning | Epoch[019] TRAIN: loss= 1.6629, acc= 0.4355 | VAL: loss= 1.8233, acc= 0.3606\n",
      "2022-10-05 22:07:41 | INFO | openpack_torch.lightning | Epoch[020] TRAIN: loss= 1.6491, acc= 0.4377 | VAL: loss= 1.8277, acc= 0.3579\n",
      "2022-10-05 22:07:41 | INFO | openpack_torch.lightning | Epoch[021] TRAIN: loss= 1.6400, acc= 0.4392 | VAL: loss= 1.8079, acc= 0.3636\n",
      "2022-10-05 22:07:42 | INFO | openpack_torch.lightning | Epoch[022] TRAIN: loss= 1.6267, acc= 0.4439 | VAL: loss= 1.8039, acc= 0.3720\n",
      "2022-10-05 22:07:42 | INFO | openpack_torch.lightning | Epoch[023] TRAIN: loss= 1.6112, acc= 0.4475 | VAL: loss= 1.8102, acc= 0.3652\n",
      "2022-10-05 22:07:43 | INFO | openpack_torch.lightning | Epoch[024] TRAIN: loss= 1.6004, acc= 0.4504 | VAL: loss= 1.7930, acc= 0.3785\n",
      "2022-10-05 22:07:44 | INFO | openpack_torch.lightning | Epoch[025] TRAIN: loss= 1.5924, acc= 0.4523 | VAL: loss= 1.7935, acc= 0.3765\n",
      "2022-10-05 22:07:44 | INFO | openpack_torch.lightning | Epoch[026] TRAIN: loss= 1.5845, acc= 0.4538 | VAL: loss= 1.7810, acc= 0.3714\n",
      "2022-10-05 22:07:45 | INFO | openpack_torch.lightning | Epoch[027] TRAIN: loss= 1.5740, acc= 0.4576 | VAL: loss= 1.7756, acc= 0.3794\n",
      "2022-10-05 22:07:45 | INFO | openpack_torch.lightning | Epoch[028] TRAIN: loss= 1.5613, acc= 0.4596 | VAL: loss= 1.7630, acc= 0.3917\n",
      "2022-10-05 22:07:46 | INFO | openpack_torch.lightning | Epoch[029] TRAIN: loss= 1.5555, acc= 0.4628 | VAL: loss= 1.7534, acc= 0.3943\n",
      "2022-10-05 22:07:46 | INFO | openpack_torch.lightning | Epoch[030] TRAIN: loss= 1.5460, acc= 0.4660 | VAL: loss= 1.7607, acc= 0.3822\n",
      "2022-10-05 22:07:47 | INFO | openpack_torch.lightning | Epoch[031] TRAIN: loss= 1.5406, acc= 0.4671 | VAL: loss= 1.7463, acc= 0.3889\n",
      "2022-10-05 22:07:47 | INFO | openpack_torch.lightning | Epoch[032] TRAIN: loss= 1.5334, acc= 0.4694 | VAL: loss= 1.7577, acc= 0.3846\n",
      "2022-10-05 22:07:48 | INFO | openpack_torch.lightning | Epoch[033] TRAIN: loss= 1.5243, acc= 0.4731 | VAL: loss= 1.7394, acc= 0.3888\n",
      "2022-10-05 22:07:48 | INFO | openpack_torch.lightning | Epoch[034] TRAIN: loss= 1.5169, acc= 0.4745 | VAL: loss= 1.7515, acc= 0.3841\n",
      "2022-10-05 22:07:49 | INFO | openpack_torch.lightning | Epoch[035] TRAIN: loss= 1.5071, acc= 0.4784 | VAL: loss= 1.7457, acc= 0.3844\n",
      "2022-10-05 22:07:49 | INFO | openpack_torch.lightning | Epoch[036] TRAIN: loss= 1.4990, acc= 0.4801 | VAL: loss= 1.7357, acc= 0.3962\n",
      "2022-10-05 22:07:50 | INFO | openpack_torch.lightning | Epoch[037] TRAIN: loss= 1.4925, acc= 0.4831 | VAL: loss= 1.7442, acc= 0.3793\n",
      "2022-10-05 22:07:50 | INFO | openpack_torch.lightning | Epoch[038] TRAIN: loss= 1.4868, acc= 0.4841 | VAL: loss= 1.7461, acc= 0.3802\n",
      "2022-10-05 22:07:51 | INFO | openpack_torch.lightning | Epoch[039] TRAIN: loss= 1.4797, acc= 0.4865 | VAL: loss= 1.7241, acc= 0.4011\n",
      "2022-10-05 22:07:52 | INFO | openpack_torch.lightning | Epoch[040] TRAIN: loss= 1.4836, acc= 0.4838 | VAL: loss= 1.7217, acc= 0.3926\n",
      "2022-10-05 22:07:52 | INFO | openpack_torch.lightning | Epoch[041] TRAIN: loss= 1.4739, acc= 0.4897 | VAL: loss= 1.7207, acc= 0.3987\n",
      "2022-10-05 22:07:53 | INFO | openpack_torch.lightning | Epoch[042] TRAIN: loss= 1.4658, acc= 0.4916 | VAL: loss= 1.7214, acc= 0.3956\n",
      "2022-10-05 22:07:53 | INFO | openpack_torch.lightning | Epoch[043] TRAIN: loss= 1.4603, acc= 0.4933 | VAL: loss= 1.7298, acc= 0.3921\n",
      "2022-10-05 22:07:54 | INFO | openpack_torch.lightning | Epoch[044] TRAIN: loss= 1.4558, acc= 0.4939 | VAL: loss= 1.7321, acc= 0.3938\n",
      "2022-10-05 22:07:54 | INFO | openpack_torch.lightning | Epoch[045] TRAIN: loss= 1.4510, acc= 0.4957 | VAL: loss= 1.7167, acc= 0.3996\n",
      "2022-10-05 22:07:55 | INFO | openpack_torch.lightning | Epoch[046] TRAIN: loss= 1.4435, acc= 0.4982 | VAL: loss= 1.7118, acc= 0.4058\n",
      "2022-10-05 22:07:55 | INFO | openpack_torch.lightning | Epoch[047] TRAIN: loss= 1.4384, acc= 0.4995 | VAL: loss= 1.7141, acc= 0.4088\n",
      "2022-10-05 22:07:56 | INFO | openpack_torch.lightning | Epoch[048] TRAIN: loss= 1.4319, acc= 0.5027 | VAL: loss= 1.7047, acc= 0.4080\n",
      "2022-10-05 22:07:56 | INFO | openpack_torch.lightning | Epoch[049] TRAIN: loss= 1.4343, acc= 0.5021 | VAL: loss= 1.7139, acc= 0.3943\n",
      "`Trainer.fit` stopped: `max_epochs=50` reached.\n",
      "2022-10-05 22:07:56 | INFO | __main__ | Finish training!\n"
     ]
    }
   ],
   "source": [
    "logger.info(f\"Start training for {num_epoch} epochs.\")\n",
    "trainer.fit(plmodel, datamodule)\n",
    "logger.info(\"Finish training!\")"
   ]
  },
  {
   "cell_type": "markdown",
   "id": "1077aaf4-9084-4ff3-9882-c772a93f491b",
   "metadata": {},
   "source": [
    "#### 6-4-5: Plot Training Curve\n",
    "\n",
    "To verify that the model is training well, plot the change in loss per epoch.\n",
    "Observe that the loss gradually decreases as the epoch progresses."
   ]
  },
  {
   "cell_type": "code",
   "execution_count": 20,
   "id": "5fe6a607-6921-4440-a03b-03f35b72ff2b",
   "metadata": {},
   "outputs": [],
   "source": [
    "df = pd.concat([\n",
    "    pd.DataFrame(plmodel.log_dict[\"train\"]),\n",
    "    pd.DataFrame(plmodel.log_dict[\"val\"]),\n",
    "],axis=1,)\n",
    "df.index.name = \"epoch\""
   ]
  },
  {
   "cell_type": "code",
   "execution_count": 21,
   "id": "65b6eb10-9584-483b-8a44-deb539528f90",
   "metadata": {},
   "outputs": [
    {
     "data": {
      "text/html": [
       "<div>\n",
       "<style scoped>\n",
       "    .dataframe tbody tr th:only-of-type {\n",
       "        vertical-align: middle;\n",
       "    }\n",
       "\n",
       "    .dataframe tbody tr th {\n",
       "        vertical-align: top;\n",
       "    }\n",
       "\n",
       "    .dataframe thead th {\n",
       "        text-align: right;\n",
       "    }\n",
       "</style>\n",
       "<table border=\"1\" class=\"dataframe\">\n",
       "  <thead>\n",
       "    <tr style=\"text-align: right;\">\n",
       "      <th></th>\n",
       "      <th>train/loss</th>\n",
       "      <th>train/acc</th>\n",
       "      <th>val/loss</th>\n",
       "      <th>val/acc</th>\n",
       "    </tr>\n",
       "    <tr>\n",
       "      <th>epoch</th>\n",
       "      <th></th>\n",
       "      <th></th>\n",
       "      <th></th>\n",
       "      <th></th>\n",
       "    </tr>\n",
       "  </thead>\n",
       "  <tbody>\n",
       "    <tr>\n",
       "      <th>0</th>\n",
       "      <td>2.422131</td>\n",
       "      <td>0.141797</td>\n",
       "      <td>2.395301</td>\n",
       "      <td>0.152833</td>\n",
       "    </tr>\n",
       "    <tr>\n",
       "      <th>1</th>\n",
       "      <td>2.196349</td>\n",
       "      <td>0.292191</td>\n",
       "      <td>2.382857</td>\n",
       "      <td>0.180393</td>\n",
       "    </tr>\n",
       "    <tr>\n",
       "      <th>2</th>\n",
       "      <td>2.082557</td>\n",
       "      <td>0.346801</td>\n",
       "      <td>2.260986</td>\n",
       "      <td>0.280662</td>\n",
       "    </tr>\n",
       "    <tr>\n",
       "      <th>3</th>\n",
       "      <td>2.016069</td>\n",
       "      <td>0.363855</td>\n",
       "      <td>2.161593</td>\n",
       "      <td>0.314285</td>\n",
       "    </tr>\n",
       "    <tr>\n",
       "      <th>4</th>\n",
       "      <td>1.965155</td>\n",
       "      <td>0.374251</td>\n",
       "      <td>2.114071</td>\n",
       "      <td>0.320878</td>\n",
       "    </tr>\n",
       "  </tbody>\n",
       "</table>\n",
       "</div>"
      ],
      "text/plain": [
       "       train/loss  train/acc  val/loss   val/acc\n",
       "epoch                                           \n",
       "0        2.422131   0.141797  2.395301  0.152833\n",
       "1        2.196349   0.292191  2.382857  0.180393\n",
       "2        2.082557   0.346801  2.260986  0.280662\n",
       "3        2.016069   0.363855  2.161593  0.314285\n",
       "4        1.965155   0.374251  2.114071  0.320878"
      ]
     },
     "execution_count": 21,
     "metadata": {},
     "output_type": "execute_result"
    }
   ],
   "source": [
    "df.head()"
   ]
  },
  {
   "cell_type": "markdown",
   "id": "30f71352-d4b0-4ceb-9b9a-525a129e6174",
   "metadata": {},
   "source": [
    "Training Log"
   ]
  },
  {
   "cell_type": "code",
   "execution_count": 22,
   "id": "61b0b6ad-9a6b-4264-8abd-8db8dcf477e1",
   "metadata": {},
   "outputs": [
    {
     "data": {
      "image/png": "[encoded data removed]",
      "text/plain": [
       "<Figure size 432x288 with 1 Axes>"
      ]
     },
     "metadata": {
      "needs_background": "light"
     },
     "output_type": "display_data"
    }
   ],
   "source": [
    "df[[\"train/loss\", \"val/loss\"]].plot()\n",
    "plt.show()"
   ]
  },
  {
   "cell_type": "markdown",
   "id": "9fb11f8b-e84c-41a1-965d-b439bd63c24f",
   "metadata": {},
   "source": [
    "Test Log"
   ]
  },
  {
   "cell_type": "code",
   "execution_count": 23,
   "id": "3b1a002a-2ff5-4bf6-a1b2-763d95bbaf08",
   "metadata": {},
   "outputs": [
    {
     "data": {
      "image/png": "[encoded data removed]",
      "text/plain": [
       "<Figure size 432x288 with 1 Axes>"
      ]
     },
     "metadata": {
      "needs_background": "light"
     },
     "output_type": "display_data"
    }
   ],
   "source": [
    "df[[\"train/acc\", \"val/acc\"]].plot()\n",
    "plt.show()"
   ]
  },
  {
   "cell_type": "code",
   "execution_count": null,
   "id": "0b1b8eac-f148-4347-9f41-28282df74c63",
   "metadata": {},
   "outputs": [],
   "source": []
  },
  {
   "cell_type": "markdown",
   "id": "80ad09e2-9b02-4582-b012-3ce9fdfc3e0e",
   "metadata": {},
   "source": [
    "### 6-5: Evaluation"
   ]
  },
  {
   "cell_type": "code",
   "execution_count": 24,
   "id": "71a2e4f0-d56e-450d-9d18-9100aae3dfe7",
   "metadata": {},
   "outputs": [
    {
     "name": "stderr",
     "output_type": "stream",
     "text": [
      "2022-10-05 22:07:57 | WARNING | openpack_torch.data.datasets | No preprocessing is applied.\n",
      "2022-10-05 22:07:57 | WARNING | openpack_torch.data.datasets | No preprocessing is applied.\n",
      "2022-10-05 22:07:57 | WARNING | openpack_torch.data.datasets | No preprocessing is applied.\n",
      "2022-10-05 22:07:57 | INFO | openpack_torch.data.datamodule | dataset[train]: None\n",
      "2022-10-05 22:07:57 | INFO | openpack_torch.data.datamodule | dataset[val]: None\n",
      "2022-10-05 22:07:57 | INFO | openpack_torch.data.datamodule | dataset[test]: {'U0106-S0100': <openpack_torch.data.datasets.OpenPackImu object at 0x7f8737ac52b0>, 'U0106-S0300': <openpack_torch.data.datasets.OpenPackImu object at 0x7f8737ae8c40>, 'U0106-S0500': <openpack_torch.data.datasets.OpenPackImu object at 0x7f8737a926d0>}\n",
      "2022-10-05 22:07:57 | INFO | openpack_torch.data.datamodule | dataset[submission]: None\n",
      "2022-10-05 22:07:57 | INFO | __main__ | test on U0106-S0100\n",
      "2022-10-05 22:07:57 | WARNING | openpack_torch.data.datasets | No preprocessing is applied.\n",
      "2022-10-05 22:07:57 | WARNING | openpack_torch.data.datasets | No preprocessing is applied.\n",
      "2022-10-05 22:07:57 | WARNING | openpack_torch.data.datasets | No preprocessing is applied.\n",
      "2022-10-05 22:07:57 | INFO | openpack_torch.data.datamodule | dataset[train]: None\n",
      "2022-10-05 22:07:57 | INFO | openpack_torch.data.datamodule | dataset[val]: None\n",
      "2022-10-05 22:07:57 | INFO | openpack_torch.data.datamodule | dataset[test]: {'U0106-S0100': <openpack_torch.data.datasets.OpenPackImu object at 0x7f8737a9cfa0>, 'U0106-S0300': <openpack_torch.data.datasets.OpenPackImu object at 0x7f8737a37b20>, 'U0106-S0500': <openpack_torch.data.datasets.OpenPackImu object at 0x7f8737adc880>}\n",
      "2022-10-05 22:07:57 | INFO | openpack_torch.data.datamodule | dataset[submission]: None\n",
      "LOCAL_RANK: 0 - CUDA_VISIBLE_DEVICES: [0]\n",
      "2022-10-05 22:07:57 | INFO | __main__ | save t[shape=(50, 1800)] to /content/logs/atr-left-wrist/DeepConvLSTM/I01-EXP1-V1-nb/pred/U0106-S0100/t.npy\n",
      "2022-10-05 22:07:57 | INFO | __main__ | save y[shape=(50, 11, 1800)] to /content/logs/atr-left-wrist/DeepConvLSTM/I01-EXP1-V1-nb/pred/U0106-S0100/y.npy\n",
      "2022-10-05 22:07:57 | INFO | __main__ | save unixtime[shape=(50, 1800)] to /content/logs/atr-left-wrist/DeepConvLSTM/I01-EXP1-V1-nb/pred/U0106-S0100/unixtime.npy\n",
      "2022-10-05 22:07:57 | INFO | __main__ | test on U0106-S0300\n",
      "2022-10-05 22:07:57 | WARNING | openpack_torch.data.datasets | No preprocessing is applied.\n",
      "2022-10-05 22:07:57 | WARNING | openpack_torch.data.datasets | No preprocessing is applied.\n",
      "2022-10-05 22:07:57 | WARNING | openpack_torch.data.datasets | No preprocessing is applied.\n",
      "2022-10-05 22:07:57 | INFO | openpack_torch.data.datamodule | dataset[train]: None\n",
      "2022-10-05 22:07:57 | INFO | openpack_torch.data.datamodule | dataset[val]: None\n",
      "2022-10-05 22:07:57 | INFO | openpack_torch.data.datamodule | dataset[test]: {'U0106-S0100': <openpack_torch.data.datasets.OpenPackImu object at 0x7f8737b097f0>, 'U0106-S0300': <openpack_torch.data.datasets.OpenPackImu object at 0x7f8737a859d0>, 'U0106-S0500': <openpack_torch.data.datasets.OpenPackImu object at 0x7f8737ab5460>}\n",
      "2022-10-05 22:07:57 | INFO | openpack_torch.data.datamodule | dataset[submission]: None\n",
      "LOCAL_RANK: 0 - CUDA_VISIBLE_DEVICES: [0]\n",
      "2022-10-05 22:07:58 | INFO | __main__ | save t[shape=(35, 1800)] to /content/logs/atr-left-wrist/DeepConvLSTM/I01-EXP1-V1-nb/pred/U0106-S0300/t.npy\n",
      "2022-10-05 22:07:58 | INFO | __main__ | save y[shape=(35, 11, 1800)] to /content/logs/atr-left-wrist/DeepConvLSTM/I01-EXP1-V1-nb/pred/U0106-S0300/y.npy\n",
      "2022-10-05 22:07:58 | INFO | __main__ | save unixtime[shape=(35, 1800)] to /content/logs/atr-left-wrist/DeepConvLSTM/I01-EXP1-V1-nb/pred/U0106-S0300/unixtime.npy\n",
      "2022-10-05 22:07:58 | INFO | __main__ | test on U0106-S0500\n",
      "2022-10-05 22:07:58 | WARNING | openpack_torch.data.datasets | No preprocessing is applied.\n",
      "2022-10-05 22:07:58 | WARNING | openpack_torch.data.datasets | No preprocessing is applied.\n",
      "2022-10-05 22:07:58 | WARNING | openpack_torch.data.datasets | No preprocessing is applied.\n",
      "2022-10-05 22:07:58 | INFO | openpack_torch.data.datamodule | dataset[train]: None\n",
      "2022-10-05 22:07:58 | INFO | openpack_torch.data.datamodule | dataset[val]: None\n",
      "2022-10-05 22:07:58 | INFO | openpack_torch.data.datamodule | dataset[test]: {'U0106-S0100': <openpack_torch.data.datasets.OpenPackImu object at 0x7f8737ab8f10>, 'U0106-S0300': <openpack_torch.data.datasets.OpenPackImu object at 0x7f8737adfd30>, 'U0106-S0500': <openpack_torch.data.datasets.OpenPackImu object at 0x7f8737a3eac0>}\n",
      "2022-10-05 22:07:58 | INFO | openpack_torch.data.datamodule | dataset[submission]: None\n",
      "LOCAL_RANK: 0 - CUDA_VISIBLE_DEVICES: [0]\n",
      "2022-10-05 22:07:58 | INFO | __main__ | save t[shape=(18, 1800)] to /content/logs/atr-left-wrist/DeepConvLSTM/I01-EXP1-V1-nb/pred/U0106-S0500/t.npy\n",
      "2022-10-05 22:07:58 | INFO | __main__ | save y[shape=(18, 11, 1800)] to /content/logs/atr-left-wrist/DeepConvLSTM/I01-EXP1-V1-nb/pred/U0106-S0500/y.npy\n",
      "2022-10-05 22:07:58 | INFO | __main__ | save unixtime[shape=(18, 1800)] to /content/logs/atr-left-wrist/DeepConvLSTM/I01-EXP1-V1-nb/pred/U0106-S0500/unixtime.npy\n"
     ]
    }
   ],
   "source": [
    "# Evaluate on test set\n",
    "outputs, df_summary = test(cfg, datamodule, trainer)"
   ]
  },
  {
   "cell_type": "markdown",
   "id": "48394dcd-4a22-4bba-a1da-cb2278a002a7",
   "metadata": {},
   "source": [
    "#### Metrics:\n",
    "\n",
    "- Precision\n",
    "- Recall\n",
    "- F1-measure (metrics used in OpenPack Challenge 2022)\n"
   ]
  },
  {
   "cell_type": "code",
   "execution_count": 25,
   "id": "f5447c00-791b-4fe7-90db-c4bbf59d9166",
   "metadata": {},
   "outputs": [
    {
     "data": {
      "text/html": [
       "<div>\n",
       "<style scoped>\n",
       "    .dataframe tbody tr th:only-of-type {\n",
       "        vertical-align: middle;\n",
       "    }\n",
       "\n",
       "    .dataframe tbody tr th {\n",
       "        vertical-align: top;\n",
       "    }\n",
       "\n",
       "    .dataframe thead th {\n",
       "        text-align: right;\n",
       "    }\n",
       "</style>\n",
       "<table border=\"1\" class=\"dataframe\">\n",
       "  <thead>\n",
       "    <tr style=\"text-align: right;\">\n",
       "      <th></th>\n",
       "      <th>name</th>\n",
       "      <th>id</th>\n",
       "      <th>precision</th>\n",
       "      <th>recall</th>\n",
       "      <th>f1</th>\n",
       "      <th>support</th>\n",
       "      <th>key</th>\n",
       "    </tr>\n",
       "  </thead>\n",
       "  <tbody>\n",
       "    <tr>\n",
       "      <th>36</th>\n",
       "      <td>avg/macro</td>\n",
       "      <td>-1</td>\n",
       "      <td>0.339008</td>\n",
       "      <td>0.342397</td>\n",
       "      <td>0.329010</td>\n",
       "      <td>None</td>\n",
       "      <td>all</td>\n",
       "    </tr>\n",
       "    <tr>\n",
       "      <th>37</th>\n",
       "      <td>avg/weighted</td>\n",
       "      <td>-1</td>\n",
       "      <td>0.360771</td>\n",
       "      <td>0.378942</td>\n",
       "      <td>0.356682</td>\n",
       "      <td>None</td>\n",
       "      <td>all</td>\n",
       "    </tr>\n",
       "    <tr>\n",
       "      <th>38</th>\n",
       "      <td>Picking</td>\n",
       "      <td>100</td>\n",
       "      <td>0.265537</td>\n",
       "      <td>0.255435</td>\n",
       "      <td>0.260388</td>\n",
       "      <td>552</td>\n",
       "      <td>all</td>\n",
       "    </tr>\n",
       "    <tr>\n",
       "      <th>39</th>\n",
       "      <td>Relocate Item Label</td>\n",
       "      <td>200</td>\n",
       "      <td>0.395655</td>\n",
       "      <td>0.652552</td>\n",
       "      <td>0.492623</td>\n",
       "      <td>921</td>\n",
       "      <td>all</td>\n",
       "    </tr>\n",
       "    <tr>\n",
       "      <th>40</th>\n",
       "      <td>Assemble Box</td>\n",
       "      <td>300</td>\n",
       "      <td>0.466208</td>\n",
       "      <td>0.419156</td>\n",
       "      <td>0.441432</td>\n",
       "      <td>971</td>\n",
       "      <td>all</td>\n",
       "    </tr>\n",
       "    <tr>\n",
       "      <th>41</th>\n",
       "      <td>Insert Items</td>\n",
       "      <td>400</td>\n",
       "      <td>0.325217</td>\n",
       "      <td>0.382413</td>\n",
       "      <td>0.351504</td>\n",
       "      <td>489</td>\n",
       "      <td>all</td>\n",
       "    </tr>\n",
       "    <tr>\n",
       "      <th>42</th>\n",
       "      <td>Close Box</td>\n",
       "      <td>500</td>\n",
       "      <td>0.345821</td>\n",
       "      <td>0.186047</td>\n",
       "      <td>0.241935</td>\n",
       "      <td>645</td>\n",
       "      <td>all</td>\n",
       "    </tr>\n",
       "    <tr>\n",
       "      <th>43</th>\n",
       "      <td>Attach Box Label</td>\n",
       "      <td>600</td>\n",
       "      <td>0.000000</td>\n",
       "      <td>0.000000</td>\n",
       "      <td>0.000000</td>\n",
       "      <td>328</td>\n",
       "      <td>all</td>\n",
       "    </tr>\n",
       "    <tr>\n",
       "      <th>44</th>\n",
       "      <td>Scan Label</td>\n",
       "      <td>700</td>\n",
       "      <td>0.346004</td>\n",
       "      <td>0.522059</td>\n",
       "      <td>0.416178</td>\n",
       "      <td>680</td>\n",
       "      <td>all</td>\n",
       "    </tr>\n",
       "    <tr>\n",
       "      <th>45</th>\n",
       "      <td>Attach Shipping Label</td>\n",
       "      <td>800</td>\n",
       "      <td>0.403974</td>\n",
       "      <td>0.264069</td>\n",
       "      <td>0.319372</td>\n",
       "      <td>462</td>\n",
       "      <td>all</td>\n",
       "    </tr>\n",
       "    <tr>\n",
       "      <th>46</th>\n",
       "      <td>Put on Back Table</td>\n",
       "      <td>900</td>\n",
       "      <td>0.401392</td>\n",
       "      <td>0.477901</td>\n",
       "      <td>0.436318</td>\n",
       "      <td>362</td>\n",
       "      <td>all</td>\n",
       "    </tr>\n",
       "    <tr>\n",
       "      <th>47</th>\n",
       "      <td>Fill out Order</td>\n",
       "      <td>1000</td>\n",
       "      <td>0.440273</td>\n",
       "      <td>0.264344</td>\n",
       "      <td>0.330346</td>\n",
       "      <td>488</td>\n",
       "      <td>all</td>\n",
       "    </tr>\n",
       "  </tbody>\n",
       "</table>\n",
       "</div>"
      ],
      "text/plain": [
       "                     name    id  precision    recall        f1 support  key\n",
       "36              avg/macro    -1   0.339008  0.342397  0.329010    None  all\n",
       "37           avg/weighted    -1   0.360771  0.378942  0.356682    None  all\n",
       "38                Picking   100   0.265537  0.255435  0.260388     552  all\n",
       "39    Relocate Item Label   200   0.395655  0.652552  0.492623     921  all\n",
       "40           Assemble Box   300   0.466208  0.419156  0.441432     971  all\n",
       "41           Insert Items   400   0.325217  0.382413  0.351504     489  all\n",
       "42              Close Box   500   0.345821  0.186047  0.241935     645  all\n",
       "43       Attach Box Label   600   0.000000  0.000000  0.000000     328  all\n",
       "44             Scan Label   700   0.346004  0.522059  0.416178     680  all\n",
       "45  Attach Shipping Label   800   0.403974  0.264069  0.319372     462  all\n",
       "46      Put on Back Table   900   0.401392  0.477901  0.436318     362  all\n",
       "47         Fill out Order  1000   0.440273  0.264344  0.330346     488  all"
      ]
     },
     "execution_count": 25,
     "metadata": {},
     "output_type": "execute_result"
    }
   ],
   "source": [
    "df_summary[df_summary[\"key\"]==\"all\"]"
   ]
  },
  {
   "cell_type": "markdown",
   "id": "854c54a5-3a13-4721-a6b0-8829c8fa71af",
   "metadata": {},
   "source": [
    "#### Visualization"
   ]
  },
  {
   "cell_type": "code",
   "execution_count": 26,
   "id": "82a15dd7-92c9-4fec-83f2-5fd625c73333",
   "metadata": {},
   "outputs": [
    {
     "name": "stdout",
     "output_type": "stream",
     "text": [
      "unixtimes=(18, 1800), t_idx=(18, 1800), y=(18, 11, 1800), y_softmax=(18, 11, 1800)\n"
     ]
    }
   ],
   "source": [
    "# Segment key to visualize\n",
    "key = \"U0106-S0500\"\n",
    "\n",
    "# Get predictions\n",
    "unixtimes = outputs[key][\"unixtime\"] \n",
    "t_idx = outputs[key][\"t_idx\"]\n",
    "y = outputs[key][\"y\"]\n",
    "y_softmax = softmax(y, axis=1)\n",
    "print(f\"unixtimes={unixtimes.shape}, t_idx={t_idx.shape}, y={y.shape}, y_softmax={y_softmax.shape}\")"
   ]
  },
  {
   "cell_type": "code",
   "execution_count": 27,
   "id": "8e023078-cf08-42c4-8234-d9a6cc391f72",
   "metadata": {},
   "outputs": [
    {
     "name": "stdout",
     "output_type": "stream",
     "text": [
      "prob=(11, 18000) pred=(18000,), gt=(18000,)\n"
     ]
    },
    {
     "data": {
      "image/png": "[encoded data removed]",
      "text/plain": [
       "<Figure size 1440x288 with 1 Axes>"
      ]
     },
     "metadata": {
      "needs_background": "light"
     },
     "output_type": "display_data"
    }
   ],
   "source": [
    "samples = (0, 10)\n",
    "\n",
    "fig = plot_timeline(samples, t_idx, y_softmax, title_prefix=f\"{cfg.model.name} | {key}\")\n",
    "fig.show()"
   ]
  },
  {
   "cell_type": "markdown",
   "id": "b7827505-6947-4c43-84eb-6aef1d63d434",
   "metadata": {},
   "source": [
    "How does the output compare to the pre-study diagram?\n",
    "You can see that the area around the red correct answer label has turned yellow. With some modeling, the score can be increased to nearly 90%. Try different models and parameters."
   ]
  },
  {
   "cell_type": "code",
   "execution_count": null,
   "id": "9640523c-abab-44aa-9309-0e40e3299097",
   "metadata": {},
   "outputs": [],
   "source": []
  }
 ],
 "metadata": {
  "kernelspec": {
   "display_name": "Python 3 (ipykernel)",
   "language": "python",
   "name": "python3"
  },
  "language_info": {
   "codemirror_mode": {
    "name": "ipython",
    "version": 3
   },
   "file_extension": ".py",
   "mimetype": "text/x-python",
   "name": "python",
   "nbconvert_exporter": "python",
   "pygments_lexer": "ipython3",
   "version": "3.8.12"
  },
  "vscode": {
   "interpreter": {
    "hash": "98574785c057dfdc8ebbe1a5a83e31eec52c36c68a787cbb694ef994b6382a57"
   }
  }
 },
 "nbformat": 4,
 "nbformat_minor": 5
}
